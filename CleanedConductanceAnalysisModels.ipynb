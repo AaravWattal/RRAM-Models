{
  "nbformat": 4,
  "nbformat_minor": 0,
  "metadata": {
    "colab": {
      "name": "CleanedConductanceAnalysisModels.ipynb",
      "provenance": [],
      "collapsed_sections": [
        "iAGoWTPjOqV_"
      ]
    },
    "kernelspec": {
      "name": "python3",
      "display_name": "Python 3"
    },
    "language_info": {
      "name": "python"
    }
  },
  "cells": [
    {
      "cell_type": "markdown",
      "source": [
        "# Imports and Datasets\n"
      ],
      "metadata": {
        "id": "q4X1XJRdPqEh"
      }
    },
    {
      "cell_type": "code",
      "execution_count": 15,
      "metadata": {
        "id": "O92tV7rwPbMT"
      },
      "outputs": [],
      "source": [
        "# Imports\n",
        "import numpy as np\n",
        "import pandas as pd\n",
        "from time import time\n",
        "\n",
        "# Scikit-learn stuff\n",
        "from sklearn.neural_network import MLPRegressor\n",
        "from sklearn.datasets import make_regression\n",
        "from sklearn.model_selection import train_test_split\n",
        "from sklearn.metrics import mean_squared_error\n",
        "from sklearn.pipeline import make_pipeline\n",
        "from sklearn.preprocessing import QuantileTransformer\n",
        "from sklearn.neural_network import MLPRegressor"
      ]
    },
    {
      "cell_type": "code",
      "source": [
        "# Get conductange range data from file set_sweep.csv\n",
        "names = [\"addr\", \"pw\", \"vwl\", \"vbsl\", \"preread\", \"postread\"]\n",
        "data = pd.read_csv(\"/content/set_sweep.csv\", names=names)\n",
        "data.head(20)"
      ],
      "metadata": {
        "id": "MNlAKGOaQArl",
        "colab": {
          "base_uri": "https://localhost:8080/",
          "height": 676
        },
        "outputId": "ac3f852b-c38c-4aad-df81-9969e81bd758"
      },
      "execution_count": 16,
      "outputs": [
        {
          "output_type": "execute_result",
          "data": {
            "text/plain": [
              "    addr            pw  vwl  vbsl        preread       postread\n",
              "0      0  2.000000e-08  0.5   0.5  151240.470700  115068.986900\n",
              "1      2  2.000000e-08  0.5   1.0  123855.302200  124977.565700\n",
              "2      4  2.000000e-08  0.5   1.5  127236.989700  106676.196700\n",
              "3      6  2.000000e-08  0.5   2.0   93031.982770  133852.645200\n",
              "4      8  2.000000e-08  0.5   2.5   75606.517090   57549.247700\n",
              "5     10  2.000000e-08  0.5   3.0   97572.302250   92171.401490\n",
              "6     12  2.000000e-08  0.6   0.5   46314.963040   50373.876070\n",
              "7     14  2.000000e-08  0.6   1.0  100303.315400  149505.440600\n",
              "8     16  2.000000e-08  0.6   1.5  212694.720700   75614.854910\n",
              "9     18  2.000000e-08  0.6   2.0    5747.716015    5608.268993\n",
              "10    20  2.000000e-08  0.6   2.5   99390.597620   68173.473680\n",
              "11    22  2.000000e-08  0.6   3.0  115261.443600   41095.737690\n",
              "12    24  2.000000e-08  0.7   0.5  138166.881800  131530.809600\n",
              "13    26  2.000000e-08  0.7   1.0   84032.373080   68859.159200\n",
              "14    28  2.000000e-08  0.7   1.5   77354.814580   35775.406770\n",
              "15    30  2.000000e-08  0.7   2.0  156872.819900   48530.561620\n",
              "16    32  2.000000e-08  0.7   2.5  125683.593900   55771.120680\n",
              "17    34  2.000000e-08  0.7   3.0    5568.287628    5506.209298\n",
              "18    36  2.000000e-08  0.8   0.5  102392.493600  150220.804000\n",
              "19    38  2.000000e-08  0.8   1.0  132950.036700  154280.498200"
            ],
            "text/html": [
              "\n",
              "  <div id=\"df-3209ac9d-1850-4033-8ad6-0a653f7d9eb2\">\n",
              "    <div class=\"colab-df-container\">\n",
              "      <div>\n",
              "<style scoped>\n",
              "    .dataframe tbody tr th:only-of-type {\n",
              "        vertical-align: middle;\n",
              "    }\n",
              "\n",
              "    .dataframe tbody tr th {\n",
              "        vertical-align: top;\n",
              "    }\n",
              "\n",
              "    .dataframe thead th {\n",
              "        text-align: right;\n",
              "    }\n",
              "</style>\n",
              "<table border=\"1\" class=\"dataframe\">\n",
              "  <thead>\n",
              "    <tr style=\"text-align: right;\">\n",
              "      <th></th>\n",
              "      <th>addr</th>\n",
              "      <th>pw</th>\n",
              "      <th>vwl</th>\n",
              "      <th>vbsl</th>\n",
              "      <th>preread</th>\n",
              "      <th>postread</th>\n",
              "    </tr>\n",
              "  </thead>\n",
              "  <tbody>\n",
              "    <tr>\n",
              "      <th>0</th>\n",
              "      <td>0</td>\n",
              "      <td>2.000000e-08</td>\n",
              "      <td>0.5</td>\n",
              "      <td>0.5</td>\n",
              "      <td>151240.470700</td>\n",
              "      <td>115068.986900</td>\n",
              "    </tr>\n",
              "    <tr>\n",
              "      <th>1</th>\n",
              "      <td>2</td>\n",
              "      <td>2.000000e-08</td>\n",
              "      <td>0.5</td>\n",
              "      <td>1.0</td>\n",
              "      <td>123855.302200</td>\n",
              "      <td>124977.565700</td>\n",
              "    </tr>\n",
              "    <tr>\n",
              "      <th>2</th>\n",
              "      <td>4</td>\n",
              "      <td>2.000000e-08</td>\n",
              "      <td>0.5</td>\n",
              "      <td>1.5</td>\n",
              "      <td>127236.989700</td>\n",
              "      <td>106676.196700</td>\n",
              "    </tr>\n",
              "    <tr>\n",
              "      <th>3</th>\n",
              "      <td>6</td>\n",
              "      <td>2.000000e-08</td>\n",
              "      <td>0.5</td>\n",
              "      <td>2.0</td>\n",
              "      <td>93031.982770</td>\n",
              "      <td>133852.645200</td>\n",
              "    </tr>\n",
              "    <tr>\n",
              "      <th>4</th>\n",
              "      <td>8</td>\n",
              "      <td>2.000000e-08</td>\n",
              "      <td>0.5</td>\n",
              "      <td>2.5</td>\n",
              "      <td>75606.517090</td>\n",
              "      <td>57549.247700</td>\n",
              "    </tr>\n",
              "    <tr>\n",
              "      <th>5</th>\n",
              "      <td>10</td>\n",
              "      <td>2.000000e-08</td>\n",
              "      <td>0.5</td>\n",
              "      <td>3.0</td>\n",
              "      <td>97572.302250</td>\n",
              "      <td>92171.401490</td>\n",
              "    </tr>\n",
              "    <tr>\n",
              "      <th>6</th>\n",
              "      <td>12</td>\n",
              "      <td>2.000000e-08</td>\n",
              "      <td>0.6</td>\n",
              "      <td>0.5</td>\n",
              "      <td>46314.963040</td>\n",
              "      <td>50373.876070</td>\n",
              "    </tr>\n",
              "    <tr>\n",
              "      <th>7</th>\n",
              "      <td>14</td>\n",
              "      <td>2.000000e-08</td>\n",
              "      <td>0.6</td>\n",
              "      <td>1.0</td>\n",
              "      <td>100303.315400</td>\n",
              "      <td>149505.440600</td>\n",
              "    </tr>\n",
              "    <tr>\n",
              "      <th>8</th>\n",
              "      <td>16</td>\n",
              "      <td>2.000000e-08</td>\n",
              "      <td>0.6</td>\n",
              "      <td>1.5</td>\n",
              "      <td>212694.720700</td>\n",
              "      <td>75614.854910</td>\n",
              "    </tr>\n",
              "    <tr>\n",
              "      <th>9</th>\n",
              "      <td>18</td>\n",
              "      <td>2.000000e-08</td>\n",
              "      <td>0.6</td>\n",
              "      <td>2.0</td>\n",
              "      <td>5747.716015</td>\n",
              "      <td>5608.268993</td>\n",
              "    </tr>\n",
              "    <tr>\n",
              "      <th>10</th>\n",
              "      <td>20</td>\n",
              "      <td>2.000000e-08</td>\n",
              "      <td>0.6</td>\n",
              "      <td>2.5</td>\n",
              "      <td>99390.597620</td>\n",
              "      <td>68173.473680</td>\n",
              "    </tr>\n",
              "    <tr>\n",
              "      <th>11</th>\n",
              "      <td>22</td>\n",
              "      <td>2.000000e-08</td>\n",
              "      <td>0.6</td>\n",
              "      <td>3.0</td>\n",
              "      <td>115261.443600</td>\n",
              "      <td>41095.737690</td>\n",
              "    </tr>\n",
              "    <tr>\n",
              "      <th>12</th>\n",
              "      <td>24</td>\n",
              "      <td>2.000000e-08</td>\n",
              "      <td>0.7</td>\n",
              "      <td>0.5</td>\n",
              "      <td>138166.881800</td>\n",
              "      <td>131530.809600</td>\n",
              "    </tr>\n",
              "    <tr>\n",
              "      <th>13</th>\n",
              "      <td>26</td>\n",
              "      <td>2.000000e-08</td>\n",
              "      <td>0.7</td>\n",
              "      <td>1.0</td>\n",
              "      <td>84032.373080</td>\n",
              "      <td>68859.159200</td>\n",
              "    </tr>\n",
              "    <tr>\n",
              "      <th>14</th>\n",
              "      <td>28</td>\n",
              "      <td>2.000000e-08</td>\n",
              "      <td>0.7</td>\n",
              "      <td>1.5</td>\n",
              "      <td>77354.814580</td>\n",
              "      <td>35775.406770</td>\n",
              "    </tr>\n",
              "    <tr>\n",
              "      <th>15</th>\n",
              "      <td>30</td>\n",
              "      <td>2.000000e-08</td>\n",
              "      <td>0.7</td>\n",
              "      <td>2.0</td>\n",
              "      <td>156872.819900</td>\n",
              "      <td>48530.561620</td>\n",
              "    </tr>\n",
              "    <tr>\n",
              "      <th>16</th>\n",
              "      <td>32</td>\n",
              "      <td>2.000000e-08</td>\n",
              "      <td>0.7</td>\n",
              "      <td>2.5</td>\n",
              "      <td>125683.593900</td>\n",
              "      <td>55771.120680</td>\n",
              "    </tr>\n",
              "    <tr>\n",
              "      <th>17</th>\n",
              "      <td>34</td>\n",
              "      <td>2.000000e-08</td>\n",
              "      <td>0.7</td>\n",
              "      <td>3.0</td>\n",
              "      <td>5568.287628</td>\n",
              "      <td>5506.209298</td>\n",
              "    </tr>\n",
              "    <tr>\n",
              "      <th>18</th>\n",
              "      <td>36</td>\n",
              "      <td>2.000000e-08</td>\n",
              "      <td>0.8</td>\n",
              "      <td>0.5</td>\n",
              "      <td>102392.493600</td>\n",
              "      <td>150220.804000</td>\n",
              "    </tr>\n",
              "    <tr>\n",
              "      <th>19</th>\n",
              "      <td>38</td>\n",
              "      <td>2.000000e-08</td>\n",
              "      <td>0.8</td>\n",
              "      <td>1.0</td>\n",
              "      <td>132950.036700</td>\n",
              "      <td>154280.498200</td>\n",
              "    </tr>\n",
              "  </tbody>\n",
              "</table>\n",
              "</div>\n",
              "      <button class=\"colab-df-convert\" onclick=\"convertToInteractive('df-3209ac9d-1850-4033-8ad6-0a653f7d9eb2')\"\n",
              "              title=\"Convert this dataframe to an interactive table.\"\n",
              "              style=\"display:none;\">\n",
              "        \n",
              "  <svg xmlns=\"http://www.w3.org/2000/svg\" height=\"24px\"viewBox=\"0 0 24 24\"\n",
              "       width=\"24px\">\n",
              "    <path d=\"M0 0h24v24H0V0z\" fill=\"none\"/>\n",
              "    <path d=\"M18.56 5.44l.94 2.06.94-2.06 2.06-.94-2.06-.94-.94-2.06-.94 2.06-2.06.94zm-11 1L8.5 8.5l.94-2.06 2.06-.94-2.06-.94L8.5 2.5l-.94 2.06-2.06.94zm10 10l.94 2.06.94-2.06 2.06-.94-2.06-.94-.94-2.06-.94 2.06-2.06.94z\"/><path d=\"M17.41 7.96l-1.37-1.37c-.4-.4-.92-.59-1.43-.59-.52 0-1.04.2-1.43.59L10.3 9.45l-7.72 7.72c-.78.78-.78 2.05 0 2.83L4 21.41c.39.39.9.59 1.41.59.51 0 1.02-.2 1.41-.59l7.78-7.78 2.81-2.81c.8-.78.8-2.07 0-2.86zM5.41 20L4 18.59l7.72-7.72 1.47 1.35L5.41 20z\"/>\n",
              "  </svg>\n",
              "      </button>\n",
              "      \n",
              "  <style>\n",
              "    .colab-df-container {\n",
              "      display:flex;\n",
              "      flex-wrap:wrap;\n",
              "      gap: 12px;\n",
              "    }\n",
              "\n",
              "    .colab-df-convert {\n",
              "      background-color: #E8F0FE;\n",
              "      border: none;\n",
              "      border-radius: 50%;\n",
              "      cursor: pointer;\n",
              "      display: none;\n",
              "      fill: #1967D2;\n",
              "      height: 32px;\n",
              "      padding: 0 0 0 0;\n",
              "      width: 32px;\n",
              "    }\n",
              "\n",
              "    .colab-df-convert:hover {\n",
              "      background-color: #E2EBFA;\n",
              "      box-shadow: 0px 1px 2px rgba(60, 64, 67, 0.3), 0px 1px 3px 1px rgba(60, 64, 67, 0.15);\n",
              "      fill: #174EA6;\n",
              "    }\n",
              "\n",
              "    [theme=dark] .colab-df-convert {\n",
              "      background-color: #3B4455;\n",
              "      fill: #D2E3FC;\n",
              "    }\n",
              "\n",
              "    [theme=dark] .colab-df-convert:hover {\n",
              "      background-color: #434B5C;\n",
              "      box-shadow: 0px 1px 3px 1px rgba(0, 0, 0, 0.15);\n",
              "      filter: drop-shadow(0px 1px 2px rgba(0, 0, 0, 0.3));\n",
              "      fill: #FFFFFF;\n",
              "    }\n",
              "  </style>\n",
              "\n",
              "      <script>\n",
              "        const buttonEl =\n",
              "          document.querySelector('#df-3209ac9d-1850-4033-8ad6-0a653f7d9eb2 button.colab-df-convert');\n",
              "        buttonEl.style.display =\n",
              "          google.colab.kernel.accessAllowed ? 'block' : 'none';\n",
              "\n",
              "        async function convertToInteractive(key) {\n",
              "          const element = document.querySelector('#df-3209ac9d-1850-4033-8ad6-0a653f7d9eb2');\n",
              "          const dataTable =\n",
              "            await google.colab.kernel.invokeFunction('convertToInteractive',\n",
              "                                                     [key], {});\n",
              "          if (!dataTable) return;\n",
              "\n",
              "          const docLinkHtml = 'Like what you see? Visit the ' +\n",
              "            '<a target=\"_blank\" href=https://colab.research.google.com/notebooks/data_table.ipynb>data table notebook</a>'\n",
              "            + ' to learn more about interactive tables.';\n",
              "          element.innerHTML = '';\n",
              "          dataTable['output_type'] = 'display_data';\n",
              "          await google.colab.output.renderOutput(dataTable, element);\n",
              "          const docLink = document.createElement('div');\n",
              "          docLink.innerHTML = docLinkHtml;\n",
              "          element.appendChild(docLink);\n",
              "        }\n",
              "      </script>\n",
              "    </div>\n",
              "  </div>\n",
              "  "
            ]
          },
          "metadata": {},
          "execution_count": 16
        }
      ]
    },
    {
      "cell_type": "markdown",
      "source": [
        "# Data Preprocessing\n",
        "\n",
        "Let us first convert resistance values (pre-read and post-read) to conductance values, and scale each column so that the maximum value is 1."
      ],
      "metadata": {
        "id": "ZOoja9TyQr0U"
      }
    },
    {
      "cell_type": "code",
      "source": [
        "# Convert resistance to conductance\n",
        "data['preread'] = 1 / data['preread']\n",
        "data['postread'] = 1 / data['postread']"
      ],
      "metadata": {
        "id": "j17xSRSON6vJ"
      },
      "execution_count": 17,
      "outputs": []
    },
    {
      "cell_type": "code",
      "source": [
        "# Creating scaled versions of the columns which have very large or very small scales\n",
        "data['scaled_pw'] = data['pw'] / np.max(data['pw'])\n",
        "data['scaled_preread'] = data['preread'] / np.max(data['preread'])\n",
        "data['scaled_postread'] = data['postread'] / np.max(data['postread'])"
      ],
      "metadata": {
        "id": "eSVuw9x_Qp5j"
      },
      "execution_count": 18,
      "outputs": []
    },
    {
      "cell_type": "code",
      "source": [
        "# Take a peek at the preprocessed data\n",
        "data.head(20)"
      ],
      "metadata": {
        "colab": {
          "base_uri": "https://localhost:8080/",
          "height": 676
        },
        "id": "xc9sL_lmTypp",
        "outputId": "17a64e37-441d-4876-9f94-ad7da8f907b9"
      },
      "execution_count": 19,
      "outputs": [
        {
          "output_type": "execute_result",
          "data": {
            "text/plain": [
              "    addr            pw  vwl  vbsl   preread  postread  scaled_pw  \\\n",
              "0      0  2.000000e-08  0.5   0.5  0.000007  0.000009       0.01   \n",
              "1      2  2.000000e-08  0.5   1.0  0.000008  0.000008       0.01   \n",
              "2      4  2.000000e-08  0.5   1.5  0.000008  0.000009       0.01   \n",
              "3      6  2.000000e-08  0.5   2.0  0.000011  0.000007       0.01   \n",
              "4      8  2.000000e-08  0.5   2.5  0.000013  0.000017       0.01   \n",
              "5     10  2.000000e-08  0.5   3.0  0.000010  0.000011       0.01   \n",
              "6     12  2.000000e-08  0.6   0.5  0.000022  0.000020       0.01   \n",
              "7     14  2.000000e-08  0.6   1.0  0.000010  0.000007       0.01   \n",
              "8     16  2.000000e-08  0.6   1.5  0.000005  0.000013       0.01   \n",
              "9     18  2.000000e-08  0.6   2.0  0.000174  0.000178       0.01   \n",
              "10    20  2.000000e-08  0.6   2.5  0.000010  0.000015       0.01   \n",
              "11    22  2.000000e-08  0.6   3.0  0.000009  0.000024       0.01   \n",
              "12    24  2.000000e-08  0.7   0.5  0.000007  0.000008       0.01   \n",
              "13    26  2.000000e-08  0.7   1.0  0.000012  0.000015       0.01   \n",
              "14    28  2.000000e-08  0.7   1.5  0.000013  0.000028       0.01   \n",
              "15    30  2.000000e-08  0.7   2.0  0.000006  0.000021       0.01   \n",
              "16    32  2.000000e-08  0.7   2.5  0.000008  0.000018       0.01   \n",
              "17    34  2.000000e-08  0.7   3.0  0.000180  0.000182       0.01   \n",
              "18    36  2.000000e-08  0.8   0.5  0.000010  0.000007       0.01   \n",
              "19    38  2.000000e-08  0.8   1.0  0.000008  0.000006       0.01   \n",
              "\n",
              "    scaled_preread  scaled_postread  \n",
              "0         0.034318         0.044375  \n",
              "1         0.041906         0.040857  \n",
              "2         0.040792         0.047866  \n",
              "3         0.055790         0.038148  \n",
              "4         0.068648         0.088728  \n",
              "5         0.053194         0.055399  \n",
              "6         0.112064         0.101366  \n",
              "7         0.051746         0.034154  \n",
              "8         0.024402         0.067529  \n",
              "9         0.903011         0.910478  \n",
              "10        0.052221         0.074900  \n",
              "11        0.045030         0.124251  \n",
              "12        0.037565         0.038821  \n",
              "13        0.061765         0.074154  \n",
              "14        0.067097         0.142729  \n",
              "15        0.033086         0.105216  \n",
              "16        0.041296         0.091556  \n",
              "17        0.932109         0.927354  \n",
              "18        0.050690         0.033991  \n",
              "19        0.039039         0.033097  "
            ],
            "text/html": [
              "\n",
              "  <div id=\"df-6c37bfbf-e24f-48a8-b7f9-b02d93d2febb\">\n",
              "    <div class=\"colab-df-container\">\n",
              "      <div>\n",
              "<style scoped>\n",
              "    .dataframe tbody tr th:only-of-type {\n",
              "        vertical-align: middle;\n",
              "    }\n",
              "\n",
              "    .dataframe tbody tr th {\n",
              "        vertical-align: top;\n",
              "    }\n",
              "\n",
              "    .dataframe thead th {\n",
              "        text-align: right;\n",
              "    }\n",
              "</style>\n",
              "<table border=\"1\" class=\"dataframe\">\n",
              "  <thead>\n",
              "    <tr style=\"text-align: right;\">\n",
              "      <th></th>\n",
              "      <th>addr</th>\n",
              "      <th>pw</th>\n",
              "      <th>vwl</th>\n",
              "      <th>vbsl</th>\n",
              "      <th>preread</th>\n",
              "      <th>postread</th>\n",
              "      <th>scaled_pw</th>\n",
              "      <th>scaled_preread</th>\n",
              "      <th>scaled_postread</th>\n",
              "    </tr>\n",
              "  </thead>\n",
              "  <tbody>\n",
              "    <tr>\n",
              "      <th>0</th>\n",
              "      <td>0</td>\n",
              "      <td>2.000000e-08</td>\n",
              "      <td>0.5</td>\n",
              "      <td>0.5</td>\n",
              "      <td>0.000007</td>\n",
              "      <td>0.000009</td>\n",
              "      <td>0.01</td>\n",
              "      <td>0.034318</td>\n",
              "      <td>0.044375</td>\n",
              "    </tr>\n",
              "    <tr>\n",
              "      <th>1</th>\n",
              "      <td>2</td>\n",
              "      <td>2.000000e-08</td>\n",
              "      <td>0.5</td>\n",
              "      <td>1.0</td>\n",
              "      <td>0.000008</td>\n",
              "      <td>0.000008</td>\n",
              "      <td>0.01</td>\n",
              "      <td>0.041906</td>\n",
              "      <td>0.040857</td>\n",
              "    </tr>\n",
              "    <tr>\n",
              "      <th>2</th>\n",
              "      <td>4</td>\n",
              "      <td>2.000000e-08</td>\n",
              "      <td>0.5</td>\n",
              "      <td>1.5</td>\n",
              "      <td>0.000008</td>\n",
              "      <td>0.000009</td>\n",
              "      <td>0.01</td>\n",
              "      <td>0.040792</td>\n",
              "      <td>0.047866</td>\n",
              "    </tr>\n",
              "    <tr>\n",
              "      <th>3</th>\n",
              "      <td>6</td>\n",
              "      <td>2.000000e-08</td>\n",
              "      <td>0.5</td>\n",
              "      <td>2.0</td>\n",
              "      <td>0.000011</td>\n",
              "      <td>0.000007</td>\n",
              "      <td>0.01</td>\n",
              "      <td>0.055790</td>\n",
              "      <td>0.038148</td>\n",
              "    </tr>\n",
              "    <tr>\n",
              "      <th>4</th>\n",
              "      <td>8</td>\n",
              "      <td>2.000000e-08</td>\n",
              "      <td>0.5</td>\n",
              "      <td>2.5</td>\n",
              "      <td>0.000013</td>\n",
              "      <td>0.000017</td>\n",
              "      <td>0.01</td>\n",
              "      <td>0.068648</td>\n",
              "      <td>0.088728</td>\n",
              "    </tr>\n",
              "    <tr>\n",
              "      <th>5</th>\n",
              "      <td>10</td>\n",
              "      <td>2.000000e-08</td>\n",
              "      <td>0.5</td>\n",
              "      <td>3.0</td>\n",
              "      <td>0.000010</td>\n",
              "      <td>0.000011</td>\n",
              "      <td>0.01</td>\n",
              "      <td>0.053194</td>\n",
              "      <td>0.055399</td>\n",
              "    </tr>\n",
              "    <tr>\n",
              "      <th>6</th>\n",
              "      <td>12</td>\n",
              "      <td>2.000000e-08</td>\n",
              "      <td>0.6</td>\n",
              "      <td>0.5</td>\n",
              "      <td>0.000022</td>\n",
              "      <td>0.000020</td>\n",
              "      <td>0.01</td>\n",
              "      <td>0.112064</td>\n",
              "      <td>0.101366</td>\n",
              "    </tr>\n",
              "    <tr>\n",
              "      <th>7</th>\n",
              "      <td>14</td>\n",
              "      <td>2.000000e-08</td>\n",
              "      <td>0.6</td>\n",
              "      <td>1.0</td>\n",
              "      <td>0.000010</td>\n",
              "      <td>0.000007</td>\n",
              "      <td>0.01</td>\n",
              "      <td>0.051746</td>\n",
              "      <td>0.034154</td>\n",
              "    </tr>\n",
              "    <tr>\n",
              "      <th>8</th>\n",
              "      <td>16</td>\n",
              "      <td>2.000000e-08</td>\n",
              "      <td>0.6</td>\n",
              "      <td>1.5</td>\n",
              "      <td>0.000005</td>\n",
              "      <td>0.000013</td>\n",
              "      <td>0.01</td>\n",
              "      <td>0.024402</td>\n",
              "      <td>0.067529</td>\n",
              "    </tr>\n",
              "    <tr>\n",
              "      <th>9</th>\n",
              "      <td>18</td>\n",
              "      <td>2.000000e-08</td>\n",
              "      <td>0.6</td>\n",
              "      <td>2.0</td>\n",
              "      <td>0.000174</td>\n",
              "      <td>0.000178</td>\n",
              "      <td>0.01</td>\n",
              "      <td>0.903011</td>\n",
              "      <td>0.910478</td>\n",
              "    </tr>\n",
              "    <tr>\n",
              "      <th>10</th>\n",
              "      <td>20</td>\n",
              "      <td>2.000000e-08</td>\n",
              "      <td>0.6</td>\n",
              "      <td>2.5</td>\n",
              "      <td>0.000010</td>\n",
              "      <td>0.000015</td>\n",
              "      <td>0.01</td>\n",
              "      <td>0.052221</td>\n",
              "      <td>0.074900</td>\n",
              "    </tr>\n",
              "    <tr>\n",
              "      <th>11</th>\n",
              "      <td>22</td>\n",
              "      <td>2.000000e-08</td>\n",
              "      <td>0.6</td>\n",
              "      <td>3.0</td>\n",
              "      <td>0.000009</td>\n",
              "      <td>0.000024</td>\n",
              "      <td>0.01</td>\n",
              "      <td>0.045030</td>\n",
              "      <td>0.124251</td>\n",
              "    </tr>\n",
              "    <tr>\n",
              "      <th>12</th>\n",
              "      <td>24</td>\n",
              "      <td>2.000000e-08</td>\n",
              "      <td>0.7</td>\n",
              "      <td>0.5</td>\n",
              "      <td>0.000007</td>\n",
              "      <td>0.000008</td>\n",
              "      <td>0.01</td>\n",
              "      <td>0.037565</td>\n",
              "      <td>0.038821</td>\n",
              "    </tr>\n",
              "    <tr>\n",
              "      <th>13</th>\n",
              "      <td>26</td>\n",
              "      <td>2.000000e-08</td>\n",
              "      <td>0.7</td>\n",
              "      <td>1.0</td>\n",
              "      <td>0.000012</td>\n",
              "      <td>0.000015</td>\n",
              "      <td>0.01</td>\n",
              "      <td>0.061765</td>\n",
              "      <td>0.074154</td>\n",
              "    </tr>\n",
              "    <tr>\n",
              "      <th>14</th>\n",
              "      <td>28</td>\n",
              "      <td>2.000000e-08</td>\n",
              "      <td>0.7</td>\n",
              "      <td>1.5</td>\n",
              "      <td>0.000013</td>\n",
              "      <td>0.000028</td>\n",
              "      <td>0.01</td>\n",
              "      <td>0.067097</td>\n",
              "      <td>0.142729</td>\n",
              "    </tr>\n",
              "    <tr>\n",
              "      <th>15</th>\n",
              "      <td>30</td>\n",
              "      <td>2.000000e-08</td>\n",
              "      <td>0.7</td>\n",
              "      <td>2.0</td>\n",
              "      <td>0.000006</td>\n",
              "      <td>0.000021</td>\n",
              "      <td>0.01</td>\n",
              "      <td>0.033086</td>\n",
              "      <td>0.105216</td>\n",
              "    </tr>\n",
              "    <tr>\n",
              "      <th>16</th>\n",
              "      <td>32</td>\n",
              "      <td>2.000000e-08</td>\n",
              "      <td>0.7</td>\n",
              "      <td>2.5</td>\n",
              "      <td>0.000008</td>\n",
              "      <td>0.000018</td>\n",
              "      <td>0.01</td>\n",
              "      <td>0.041296</td>\n",
              "      <td>0.091556</td>\n",
              "    </tr>\n",
              "    <tr>\n",
              "      <th>17</th>\n",
              "      <td>34</td>\n",
              "      <td>2.000000e-08</td>\n",
              "      <td>0.7</td>\n",
              "      <td>3.0</td>\n",
              "      <td>0.000180</td>\n",
              "      <td>0.000182</td>\n",
              "      <td>0.01</td>\n",
              "      <td>0.932109</td>\n",
              "      <td>0.927354</td>\n",
              "    </tr>\n",
              "    <tr>\n",
              "      <th>18</th>\n",
              "      <td>36</td>\n",
              "      <td>2.000000e-08</td>\n",
              "      <td>0.8</td>\n",
              "      <td>0.5</td>\n",
              "      <td>0.000010</td>\n",
              "      <td>0.000007</td>\n",
              "      <td>0.01</td>\n",
              "      <td>0.050690</td>\n",
              "      <td>0.033991</td>\n",
              "    </tr>\n",
              "    <tr>\n",
              "      <th>19</th>\n",
              "      <td>38</td>\n",
              "      <td>2.000000e-08</td>\n",
              "      <td>0.8</td>\n",
              "      <td>1.0</td>\n",
              "      <td>0.000008</td>\n",
              "      <td>0.000006</td>\n",
              "      <td>0.01</td>\n",
              "      <td>0.039039</td>\n",
              "      <td>0.033097</td>\n",
              "    </tr>\n",
              "  </tbody>\n",
              "</table>\n",
              "</div>\n",
              "      <button class=\"colab-df-convert\" onclick=\"convertToInteractive('df-6c37bfbf-e24f-48a8-b7f9-b02d93d2febb')\"\n",
              "              title=\"Convert this dataframe to an interactive table.\"\n",
              "              style=\"display:none;\">\n",
              "        \n",
              "  <svg xmlns=\"http://www.w3.org/2000/svg\" height=\"24px\"viewBox=\"0 0 24 24\"\n",
              "       width=\"24px\">\n",
              "    <path d=\"M0 0h24v24H0V0z\" fill=\"none\"/>\n",
              "    <path d=\"M18.56 5.44l.94 2.06.94-2.06 2.06-.94-2.06-.94-.94-2.06-.94 2.06-2.06.94zm-11 1L8.5 8.5l.94-2.06 2.06-.94-2.06-.94L8.5 2.5l-.94 2.06-2.06.94zm10 10l.94 2.06.94-2.06 2.06-.94-2.06-.94-.94-2.06-.94 2.06-2.06.94z\"/><path d=\"M17.41 7.96l-1.37-1.37c-.4-.4-.92-.59-1.43-.59-.52 0-1.04.2-1.43.59L10.3 9.45l-7.72 7.72c-.78.78-.78 2.05 0 2.83L4 21.41c.39.39.9.59 1.41.59.51 0 1.02-.2 1.41-.59l7.78-7.78 2.81-2.81c.8-.78.8-2.07 0-2.86zM5.41 20L4 18.59l7.72-7.72 1.47 1.35L5.41 20z\"/>\n",
              "  </svg>\n",
              "      </button>\n",
              "      \n",
              "  <style>\n",
              "    .colab-df-container {\n",
              "      display:flex;\n",
              "      flex-wrap:wrap;\n",
              "      gap: 12px;\n",
              "    }\n",
              "\n",
              "    .colab-df-convert {\n",
              "      background-color: #E8F0FE;\n",
              "      border: none;\n",
              "      border-radius: 50%;\n",
              "      cursor: pointer;\n",
              "      display: none;\n",
              "      fill: #1967D2;\n",
              "      height: 32px;\n",
              "      padding: 0 0 0 0;\n",
              "      width: 32px;\n",
              "    }\n",
              "\n",
              "    .colab-df-convert:hover {\n",
              "      background-color: #E2EBFA;\n",
              "      box-shadow: 0px 1px 2px rgba(60, 64, 67, 0.3), 0px 1px 3px 1px rgba(60, 64, 67, 0.15);\n",
              "      fill: #174EA6;\n",
              "    }\n",
              "\n",
              "    [theme=dark] .colab-df-convert {\n",
              "      background-color: #3B4455;\n",
              "      fill: #D2E3FC;\n",
              "    }\n",
              "\n",
              "    [theme=dark] .colab-df-convert:hover {\n",
              "      background-color: #434B5C;\n",
              "      box-shadow: 0px 1px 3px 1px rgba(0, 0, 0, 0.15);\n",
              "      filter: drop-shadow(0px 1px 2px rgba(0, 0, 0, 0.3));\n",
              "      fill: #FFFFFF;\n",
              "    }\n",
              "  </style>\n",
              "\n",
              "      <script>\n",
              "        const buttonEl =\n",
              "          document.querySelector('#df-6c37bfbf-e24f-48a8-b7f9-b02d93d2febb button.colab-df-convert');\n",
              "        buttonEl.style.display =\n",
              "          google.colab.kernel.accessAllowed ? 'block' : 'none';\n",
              "\n",
              "        async function convertToInteractive(key) {\n",
              "          const element = document.querySelector('#df-6c37bfbf-e24f-48a8-b7f9-b02d93d2febb');\n",
              "          const dataTable =\n",
              "            await google.colab.kernel.invokeFunction('convertToInteractive',\n",
              "                                                     [key], {});\n",
              "          if (!dataTable) return;\n",
              "\n",
              "          const docLinkHtml = 'Like what you see? Visit the ' +\n",
              "            '<a target=\"_blank\" href=https://colab.research.google.com/notebooks/data_table.ipynb>data table notebook</a>'\n",
              "            + ' to learn more about interactive tables.';\n",
              "          element.innerHTML = '';\n",
              "          dataTable['output_type'] = 'display_data';\n",
              "          await google.colab.output.renderOutput(dataTable, element);\n",
              "          const docLink = document.createElement('div');\n",
              "          docLink.innerHTML = docLinkHtml;\n",
              "          element.appendChild(docLink);\n",
              "        }\n",
              "      </script>\n",
              "    </div>\n",
              "  </div>\n",
              "  "
            ]
          },
          "metadata": {},
          "execution_count": 19
        }
      ]
    },
    {
      "cell_type": "markdown",
      "source": [
        "### Train Test Split\n",
        "Here, we make a 70%-30% split of the data into training and testing datasets"
      ],
      "metadata": {
        "id": "HlNBq4p9NUob"
      }
    },
    {
      "cell_type": "code",
      "source": [
        "# Train-test 70%-30% split\n",
        "x = data[[\"scaled_preread\",\"scaled_pw\",\"vwl\",\"vbsl\"]].to_numpy()\n",
        "y = data[\"scaled_postread\"].to_numpy()\n",
        "X_train, X_test, y_train, y_test = train_test_split(x, y, test_size=0.3, random_state=42)"
      ],
      "metadata": {
        "id": "b1pC9G4tgrjX"
      },
      "execution_count": 32,
      "outputs": []
    },
    {
      "cell_type": "markdown",
      "source": [
        "###Training/Testing Model"
      ],
      "metadata": {
        "id": "iwFwLSaLrGDP"
      }
    },
    {
      "cell_type": "code",
      "source": [
        "# Training the MLP regressor\n",
        "print(\"Training MLPRegressor...\")\n",
        "tic = time()\n",
        "est = make_pipeline(\n",
        "    QuantileTransformer(),\n",
        "    MLPRegressor(\n",
        "        hidden_layer_sizes=(45, 23),\n",
        "        learning_rate_init=0.03,\n",
        "        early_stopping=True,\n",
        "        random_state=0,\n",
        "    ),\n",
        ")\n",
        "est.fit(X_train, y_train)\n",
        "print(f\"Done in {time() - tic:.3f}s\")\n",
        "print(f\"Test R2 score: {est.score(X_test, y_test):.5f}\")"
      ],
      "metadata": {
        "id": "M09Lil8DrFtz",
        "colab": {
          "base_uri": "https://localhost:8080/"
        },
        "outputId": "99ecf81f-f29f-4c1a-e6f3-a6e6972f2f0f"
      },
      "execution_count": 33,
      "outputs": [
        {
          "output_type": "stream",
          "name": "stdout",
          "text": [
            "Training MLPRegressor...\n",
            "Done in 5.512s\n",
            "Test R2 score: 0.96434\n"
          ]
        }
      ]
    },
    {
      "cell_type": "code",
      "source": [
        "# Root Mean Squared Error (RMSE) on training dataset\n",
        "predictions = est.predict(X_train)\n",
        "mean_squared_error(y_train, predictions, squared=False)"
      ],
      "metadata": {
        "id": "T7xli8cKhfgm",
        "colab": {
          "base_uri": "https://localhost:8080/"
        },
        "outputId": "cba912a2-7f16-48c1-c19a-7cc07091777d"
      },
      "execution_count": 34,
      "outputs": [
        {
          "output_type": "execute_result",
          "data": {
            "text/plain": [
              "0.060925081217161114"
            ]
          },
          "metadata": {},
          "execution_count": 34
        }
      ]
    },
    {
      "cell_type": "code",
      "source": [
        "# Mean Squared Error (MSE) on training dataset\n",
        "mean_squared_error(y_train, predictions, squared=True)"
      ],
      "metadata": {
        "id": "c6MY3CyyYK5V",
        "colab": {
          "base_uri": "https://localhost:8080/"
        },
        "outputId": "22e61320-7910-4a29-cd65-555462497401"
      },
      "execution_count": 35,
      "outputs": [
        {
          "output_type": "execute_result",
          "data": {
            "text/plain": [
              "0.003711865521317678"
            ]
          },
          "metadata": {},
          "execution_count": 35
        }
      ]
    },
    {
      "cell_type": "code",
      "source": [
        "# Root Mean Squared Error (RMSE) on testing dataset\n",
        "predictions = est.predict(X_test)\n",
        "mean_squared_error(y_test, predictions, squared=False)"
      ],
      "metadata": {
        "colab": {
          "base_uri": "https://localhost:8080/"
        },
        "id": "lMFmU1z7YEkZ",
        "outputId": "f1f5ada7-3af4-4047-8157-8641284554ba"
      },
      "execution_count": 36,
      "outputs": [
        {
          "output_type": "execute_result",
          "data": {
            "text/plain": [
              "0.06042596846965017"
            ]
          },
          "metadata": {},
          "execution_count": 36
        }
      ]
    },
    {
      "cell_type": "code",
      "source": [
        "# Mean Squared Error (MSE) on testing dataset\n",
        "mean_squared_error(y_test, predictions, squared=True)"
      ],
      "metadata": {
        "colab": {
          "base_uri": "https://localhost:8080/"
        },
        "id": "F9kX7YF8SqlW",
        "outputId": "cb99baee-ecf6-4939-b159-87c1e4e480fd"
      },
      "execution_count": 37,
      "outputs": [
        {
          "output_type": "execute_result",
          "data": {
            "text/plain": [
              "0.0036512976654951563"
            ]
          },
          "metadata": {},
          "execution_count": 37
        }
      ]
    },
    {
      "cell_type": "markdown",
      "source": [
        "### Testing on subset of testing data where there was a significant change in conductance (>= 50%)"
      ],
      "metadata": {
        "id": "aUzaDUixVAp-"
      }
    },
    {
      "cell_type": "code",
      "source": [
        "# Filter the testing data to a subset\n",
        "# Condition: |preread - postread| >= 50%\n",
        "condition = (np.abs(X_test[:,0] - y_test) >= 0.5)\n",
        "cond_X_test, cond_y_test = X_test[condition], y_test[condition]\n",
        "cond_X_test, cond_y_test"
      ],
      "metadata": {
        "colab": {
          "base_uri": "https://localhost:8080/"
        },
        "id": "svaHoXF7VVbA",
        "outputId": "0c0e40d0-5709-4410-a4ac-3a2d33ab5794"
      },
      "execution_count": 43,
      "outputs": [
        {
          "output_type": "execute_result",
          "data": {
            "text/plain": [
              "(array([[0.05662796, 0.02      , 2.9       , 2.5       ],\n",
              "        [0.05354097, 0.2       , 3.3       , 3.        ],\n",
              "        [0.03979135, 0.5       , 1.8       , 2.        ],\n",
              "        ...,\n",
              "        [0.0785674 , 1.        , 2.2       , 2.5       ],\n",
              "        [0.03845998, 0.02      , 2.9       , 2.        ],\n",
              "        [0.05285441, 0.1       , 2.8       , 3.        ]]),\n",
              " array([0.89600339, 0.83129014, 0.78324301, ..., 0.79498139, 0.78026736,\n",
              "        0.88830014]))"
            ]
          },
          "metadata": {},
          "execution_count": 43
        }
      ]
    },
    {
      "cell_type": "code",
      "source": [
        "# Root Mean Squared Error (RMSE) on training dataset\n",
        "predictions = est.predict(X_train)\n",
        "mean_squared_error(y_train, predictions, squared=False)"
      ],
      "metadata": {
        "colab": {
          "base_uri": "https://localhost:8080/"
        },
        "outputId": "cba912a2-7f16-48c1-c19a-7cc07091777d",
        "id": "c_a1UwIlkWf_"
      },
      "execution_count": null,
      "outputs": [
        {
          "output_type": "execute_result",
          "data": {
            "text/plain": [
              "0.060925081217161114"
            ]
          },
          "metadata": {},
          "execution_count": 34
        }
      ]
    },
    {
      "cell_type": "code",
      "source": [
        "# Mean Squared Error (MSE) on training dataset\n",
        "mean_squared_error(y_train, predictions, squared=True)"
      ],
      "metadata": {
        "colab": {
          "base_uri": "https://localhost:8080/"
        },
        "outputId": "22e61320-7910-4a29-cd65-555462497401",
        "id": "8YEeGJ_vkWgA"
      },
      "execution_count": null,
      "outputs": [
        {
          "output_type": "execute_result",
          "data": {
            "text/plain": [
              "0.003711865521317678"
            ]
          },
          "metadata": {},
          "execution_count": 35
        }
      ]
    },
    {
      "cell_type": "code",
      "source": [
        "# Root Mean Squared Error (RMSE) on testing dataset\n",
        "predictions = est.predict(X_test)\n",
        "mean_squared_error(y_test, predictions, squared=False)"
      ],
      "metadata": {
        "colab": {
          "base_uri": "https://localhost:8080/"
        },
        "outputId": "f1f5ada7-3af4-4047-8157-8641284554ba",
        "id": "h2oq2_imkWgB"
      },
      "execution_count": null,
      "outputs": [
        {
          "output_type": "execute_result",
          "data": {
            "text/plain": [
              "0.06042596846965017"
            ]
          },
          "metadata": {},
          "execution_count": 36
        }
      ]
    },
    {
      "cell_type": "code",
      "source": [
        "# Mean Squared Error (MSE) on testing dataset\n",
        "mean_squared_error(y_test, predictions, squared=True)"
      ],
      "metadata": {
        "colab": {
          "base_uri": "https://localhost:8080/"
        },
        "outputId": "cb99baee-ecf6-4939-b159-87c1e4e480fd",
        "id": "Gx1qj0FOkWgB"
      },
      "execution_count": null,
      "outputs": [
        {
          "output_type": "execute_result",
          "data": {
            "text/plain": [
              "0.0036512976654951563"
            ]
          },
          "metadata": {},
          "execution_count": 37
        }
      ]
    },
    {
      "cell_type": "markdown",
      "source": [
        "### Testing on subset of testing data where there was a miniscule change in conductance (<= 5%)"
      ],
      "metadata": {
        "id": "P4lSMLUlkD4E"
      }
    },
    {
      "cell_type": "code",
      "source": [
        "# Filter the testing data to a subset\n",
        "# NOTE: the first column of X_test is preread conductance\n",
        "# Condition: |preread - postread| <= 5%\n",
        "condition = (np.abs(X_test[:,0] - y_test) <= 0.05)\n",
        "cond_X_test, cond_y_test = X_test[condition], y_test[condition]\n",
        "cond_X_test, cond_y_test"
      ],
      "metadata": {
        "colab": {
          "base_uri": "https://localhost:8080/"
        },
        "id": "Evd-ntNUj7OC",
        "outputId": "2412b2fa-44d2-4cba-e471-ed3720b04d68"
      },
      "execution_count": 45,
      "outputs": [
        {
          "output_type": "execute_result",
          "data": {
            "text/plain": [
              "(array([[0.8943141 , 0.1       , 2.8       , 0.5       ],\n",
              "        [0.15029053, 0.2       , 0.5       , 3.        ],\n",
              "        [0.83693339, 0.1       , 1.4       , 1.        ],\n",
              "        ...,\n",
              "        [0.12809017, 0.01      , 1.2       , 1.        ],\n",
              "        [0.0483151 , 0.1       , 1.6       , 0.5       ],\n",
              "        [0.07737659, 0.02      , 2.9       , 0.5       ]]),\n",
              " array([0.87902953, 0.10470574, 0.80512214, ..., 0.08642385, 0.06558585,\n",
              "        0.06720146]))"
            ]
          },
          "metadata": {},
          "execution_count": 45
        }
      ]
    },
    {
      "cell_type": "code",
      "source": [
        "# Root Mean Squared Error (RMSE) on training dataset\n",
        "predictions = est.predict(X_train)\n",
        "mean_squared_error(y_train, predictions, squared=False)"
      ],
      "metadata": {
        "colab": {
          "base_uri": "https://localhost:8080/"
        },
        "outputId": "cba912a2-7f16-48c1-c19a-7cc07091777d",
        "id": "-g7ceqtFkXf9"
      },
      "execution_count": null,
      "outputs": [
        {
          "output_type": "execute_result",
          "data": {
            "text/plain": [
              "0.060925081217161114"
            ]
          },
          "metadata": {},
          "execution_count": 34
        }
      ]
    },
    {
      "cell_type": "code",
      "source": [
        "# Mean Squared Error (MSE) on training dataset\n",
        "mean_squared_error(y_train, predictions, squared=True)"
      ],
      "metadata": {
        "colab": {
          "base_uri": "https://localhost:8080/"
        },
        "outputId": "22e61320-7910-4a29-cd65-555462497401",
        "id": "3HkK7OqckXf9"
      },
      "execution_count": null,
      "outputs": [
        {
          "output_type": "execute_result",
          "data": {
            "text/plain": [
              "0.003711865521317678"
            ]
          },
          "metadata": {},
          "execution_count": 35
        }
      ]
    },
    {
      "cell_type": "code",
      "source": [
        "# Root Mean Squared Error (RMSE) on testing dataset\n",
        "predictions = est.predict(X_test)\n",
        "mean_squared_error(y_test, predictions, squared=False)"
      ],
      "metadata": {
        "colab": {
          "base_uri": "https://localhost:8080/"
        },
        "outputId": "f1f5ada7-3af4-4047-8157-8641284554ba",
        "id": "jXew1eRokXf-"
      },
      "execution_count": null,
      "outputs": [
        {
          "output_type": "execute_result",
          "data": {
            "text/plain": [
              "0.06042596846965017"
            ]
          },
          "metadata": {},
          "execution_count": 36
        }
      ]
    },
    {
      "cell_type": "code",
      "source": [
        "# Mean Squared Error (MSE) on testing dataset\n",
        "mean_squared_error(y_test, predictions, squared=True)"
      ],
      "metadata": {
        "colab": {
          "base_uri": "https://localhost:8080/"
        },
        "outputId": "cb99baee-ecf6-4939-b159-87c1e4e480fd",
        "id": "5wHm5nb7kXf-"
      },
      "execution_count": null,
      "outputs": [
        {
          "output_type": "execute_result",
          "data": {
            "text/plain": [
              "0.0036512976654951563"
            ]
          },
          "metadata": {},
          "execution_count": 37
        }
      ]
    }
  ]
}