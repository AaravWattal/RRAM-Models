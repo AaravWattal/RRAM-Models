{
  "cells": [
    {
      "cell_type": "markdown",
      "metadata": {
        "id": "q4X1XJRdPqEh"
      },
      "source": [
        "# Imports and Datasets\n"
      ]
    },
    {
      "cell_type": "code",
      "execution_count": 6,
      "metadata": {
        "id": "O92tV7rwPbMT"
      },
      "outputs": [],
      "source": [
        "# Imports\n",
        "import numpy as np\n",
        "import pandas as pd\n",
        "from time import time\n",
        "\n",
        "# Scikit-learn stuff\n",
        "from sklearn.neural_network import MLPRegressor\n",
        "from sklearn.datasets import make_regression\n",
        "from sklearn.model_selection import train_test_split\n",
        "from sklearn.metrics import mean_squared_error\n",
        "from sklearn.pipeline import make_pipeline\n",
        "from sklearn.preprocessing import QuantileTransformer\n",
        "from sklearn.neural_network import MLPRegressor"
      ]
    },
    {
      "cell_type": "code",
      "execution_count": 7,
      "metadata": {
        "colab": {
          "base_uri": "https://localhost:8080/",
          "height": 677
        },
        "id": "MNlAKGOaQArl",
        "outputId": "bc20df78-f256-4031-9599-7a968c85dd1d"
      },
      "outputs": [
        {
          "output_type": "execute_result",
          "data": {
            "text/plain": [
              "    addr            pw  vwl  vbsl        preread       postread\n",
              "0      0  2.000000e-08  0.5   0.5  151240.470700  115068.986900\n",
              "1      2  2.000000e-08  0.5   1.0  123855.302200  124977.565700\n",
              "2      4  2.000000e-08  0.5   1.5  127236.989700  106676.196700\n",
              "3      6  2.000000e-08  0.5   2.0   93031.982770  133852.645200\n",
              "4      8  2.000000e-08  0.5   2.5   75606.517090   57549.247700\n",
              "5     10  2.000000e-08  0.5   3.0   97572.302250   92171.401490\n",
              "6     12  2.000000e-08  0.6   0.5   46314.963040   50373.876070\n",
              "7     14  2.000000e-08  0.6   1.0  100303.315400  149505.440600\n",
              "8     16  2.000000e-08  0.6   1.5  212694.720700   75614.854910\n",
              "9     18  2.000000e-08  0.6   2.0    5747.716015    5608.268993\n",
              "10    20  2.000000e-08  0.6   2.5   99390.597620   68173.473680\n",
              "11    22  2.000000e-08  0.6   3.0  115261.443600   41095.737690\n",
              "12    24  2.000000e-08  0.7   0.5  138166.881800  131530.809600\n",
              "13    26  2.000000e-08  0.7   1.0   84032.373080   68859.159200\n",
              "14    28  2.000000e-08  0.7   1.5   77354.814580   35775.406770\n",
              "15    30  2.000000e-08  0.7   2.0  156872.819900   48530.561620\n",
              "16    32  2.000000e-08  0.7   2.5  125683.593900   55771.120680\n",
              "17    34  2.000000e-08  0.7   3.0    5568.287628    5506.209298\n",
              "18    36  2.000000e-08  0.8   0.5  102392.493600  150220.804000\n",
              "19    38  2.000000e-08  0.8   1.0  132950.036700  154280.498200"
            ],
            "text/html": [
              "\n",
              "  <div id=\"df-ab6e5c91-4c4d-48aa-8905-ed5f2294542d\">\n",
              "    <div class=\"colab-df-container\">\n",
              "      <div>\n",
              "<style scoped>\n",
              "    .dataframe tbody tr th:only-of-type {\n",
              "        vertical-align: middle;\n",
              "    }\n",
              "\n",
              "    .dataframe tbody tr th {\n",
              "        vertical-align: top;\n",
              "    }\n",
              "\n",
              "    .dataframe thead th {\n",
              "        text-align: right;\n",
              "    }\n",
              "</style>\n",
              "<table border=\"1\" class=\"dataframe\">\n",
              "  <thead>\n",
              "    <tr style=\"text-align: right;\">\n",
              "      <th></th>\n",
              "      <th>addr</th>\n",
              "      <th>pw</th>\n",
              "      <th>vwl</th>\n",
              "      <th>vbsl</th>\n",
              "      <th>preread</th>\n",
              "      <th>postread</th>\n",
              "    </tr>\n",
              "  </thead>\n",
              "  <tbody>\n",
              "    <tr>\n",
              "      <th>0</th>\n",
              "      <td>0</td>\n",
              "      <td>2.000000e-08</td>\n",
              "      <td>0.5</td>\n",
              "      <td>0.5</td>\n",
              "      <td>151240.470700</td>\n",
              "      <td>115068.986900</td>\n",
              "    </tr>\n",
              "    <tr>\n",
              "      <th>1</th>\n",
              "      <td>2</td>\n",
              "      <td>2.000000e-08</td>\n",
              "      <td>0.5</td>\n",
              "      <td>1.0</td>\n",
              "      <td>123855.302200</td>\n",
              "      <td>124977.565700</td>\n",
              "    </tr>\n",
              "    <tr>\n",
              "      <th>2</th>\n",
              "      <td>4</td>\n",
              "      <td>2.000000e-08</td>\n",
              "      <td>0.5</td>\n",
              "      <td>1.5</td>\n",
              "      <td>127236.989700</td>\n",
              "      <td>106676.196700</td>\n",
              "    </tr>\n",
              "    <tr>\n",
              "      <th>3</th>\n",
              "      <td>6</td>\n",
              "      <td>2.000000e-08</td>\n",
              "      <td>0.5</td>\n",
              "      <td>2.0</td>\n",
              "      <td>93031.982770</td>\n",
              "      <td>133852.645200</td>\n",
              "    </tr>\n",
              "    <tr>\n",
              "      <th>4</th>\n",
              "      <td>8</td>\n",
              "      <td>2.000000e-08</td>\n",
              "      <td>0.5</td>\n",
              "      <td>2.5</td>\n",
              "      <td>75606.517090</td>\n",
              "      <td>57549.247700</td>\n",
              "    </tr>\n",
              "    <tr>\n",
              "      <th>5</th>\n",
              "      <td>10</td>\n",
              "      <td>2.000000e-08</td>\n",
              "      <td>0.5</td>\n",
              "      <td>3.0</td>\n",
              "      <td>97572.302250</td>\n",
              "      <td>92171.401490</td>\n",
              "    </tr>\n",
              "    <tr>\n",
              "      <th>6</th>\n",
              "      <td>12</td>\n",
              "      <td>2.000000e-08</td>\n",
              "      <td>0.6</td>\n",
              "      <td>0.5</td>\n",
              "      <td>46314.963040</td>\n",
              "      <td>50373.876070</td>\n",
              "    </tr>\n",
              "    <tr>\n",
              "      <th>7</th>\n",
              "      <td>14</td>\n",
              "      <td>2.000000e-08</td>\n",
              "      <td>0.6</td>\n",
              "      <td>1.0</td>\n",
              "      <td>100303.315400</td>\n",
              "      <td>149505.440600</td>\n",
              "    </tr>\n",
              "    <tr>\n",
              "      <th>8</th>\n",
              "      <td>16</td>\n",
              "      <td>2.000000e-08</td>\n",
              "      <td>0.6</td>\n",
              "      <td>1.5</td>\n",
              "      <td>212694.720700</td>\n",
              "      <td>75614.854910</td>\n",
              "    </tr>\n",
              "    <tr>\n",
              "      <th>9</th>\n",
              "      <td>18</td>\n",
              "      <td>2.000000e-08</td>\n",
              "      <td>0.6</td>\n",
              "      <td>2.0</td>\n",
              "      <td>5747.716015</td>\n",
              "      <td>5608.268993</td>\n",
              "    </tr>\n",
              "    <tr>\n",
              "      <th>10</th>\n",
              "      <td>20</td>\n",
              "      <td>2.000000e-08</td>\n",
              "      <td>0.6</td>\n",
              "      <td>2.5</td>\n",
              "      <td>99390.597620</td>\n",
              "      <td>68173.473680</td>\n",
              "    </tr>\n",
              "    <tr>\n",
              "      <th>11</th>\n",
              "      <td>22</td>\n",
              "      <td>2.000000e-08</td>\n",
              "      <td>0.6</td>\n",
              "      <td>3.0</td>\n",
              "      <td>115261.443600</td>\n",
              "      <td>41095.737690</td>\n",
              "    </tr>\n",
              "    <tr>\n",
              "      <th>12</th>\n",
              "      <td>24</td>\n",
              "      <td>2.000000e-08</td>\n",
              "      <td>0.7</td>\n",
              "      <td>0.5</td>\n",
              "      <td>138166.881800</td>\n",
              "      <td>131530.809600</td>\n",
              "    </tr>\n",
              "    <tr>\n",
              "      <th>13</th>\n",
              "      <td>26</td>\n",
              "      <td>2.000000e-08</td>\n",
              "      <td>0.7</td>\n",
              "      <td>1.0</td>\n",
              "      <td>84032.373080</td>\n",
              "      <td>68859.159200</td>\n",
              "    </tr>\n",
              "    <tr>\n",
              "      <th>14</th>\n",
              "      <td>28</td>\n",
              "      <td>2.000000e-08</td>\n",
              "      <td>0.7</td>\n",
              "      <td>1.5</td>\n",
              "      <td>77354.814580</td>\n",
              "      <td>35775.406770</td>\n",
              "    </tr>\n",
              "    <tr>\n",
              "      <th>15</th>\n",
              "      <td>30</td>\n",
              "      <td>2.000000e-08</td>\n",
              "      <td>0.7</td>\n",
              "      <td>2.0</td>\n",
              "      <td>156872.819900</td>\n",
              "      <td>48530.561620</td>\n",
              "    </tr>\n",
              "    <tr>\n",
              "      <th>16</th>\n",
              "      <td>32</td>\n",
              "      <td>2.000000e-08</td>\n",
              "      <td>0.7</td>\n",
              "      <td>2.5</td>\n",
              "      <td>125683.593900</td>\n",
              "      <td>55771.120680</td>\n",
              "    </tr>\n",
              "    <tr>\n",
              "      <th>17</th>\n",
              "      <td>34</td>\n",
              "      <td>2.000000e-08</td>\n",
              "      <td>0.7</td>\n",
              "      <td>3.0</td>\n",
              "      <td>5568.287628</td>\n",
              "      <td>5506.209298</td>\n",
              "    </tr>\n",
              "    <tr>\n",
              "      <th>18</th>\n",
              "      <td>36</td>\n",
              "      <td>2.000000e-08</td>\n",
              "      <td>0.8</td>\n",
              "      <td>0.5</td>\n",
              "      <td>102392.493600</td>\n",
              "      <td>150220.804000</td>\n",
              "    </tr>\n",
              "    <tr>\n",
              "      <th>19</th>\n",
              "      <td>38</td>\n",
              "      <td>2.000000e-08</td>\n",
              "      <td>0.8</td>\n",
              "      <td>1.0</td>\n",
              "      <td>132950.036700</td>\n",
              "      <td>154280.498200</td>\n",
              "    </tr>\n",
              "  </tbody>\n",
              "</table>\n",
              "</div>\n",
              "      <button class=\"colab-df-convert\" onclick=\"convertToInteractive('df-ab6e5c91-4c4d-48aa-8905-ed5f2294542d')\"\n",
              "              title=\"Convert this dataframe to an interactive table.\"\n",
              "              style=\"display:none;\">\n",
              "        \n",
              "  <svg xmlns=\"http://www.w3.org/2000/svg\" height=\"24px\"viewBox=\"0 0 24 24\"\n",
              "       width=\"24px\">\n",
              "    <path d=\"M0 0h24v24H0V0z\" fill=\"none\"/>\n",
              "    <path d=\"M18.56 5.44l.94 2.06.94-2.06 2.06-.94-2.06-.94-.94-2.06-.94 2.06-2.06.94zm-11 1L8.5 8.5l.94-2.06 2.06-.94-2.06-.94L8.5 2.5l-.94 2.06-2.06.94zm10 10l.94 2.06.94-2.06 2.06-.94-2.06-.94-.94-2.06-.94 2.06-2.06.94z\"/><path d=\"M17.41 7.96l-1.37-1.37c-.4-.4-.92-.59-1.43-.59-.52 0-1.04.2-1.43.59L10.3 9.45l-7.72 7.72c-.78.78-.78 2.05 0 2.83L4 21.41c.39.39.9.59 1.41.59.51 0 1.02-.2 1.41-.59l7.78-7.78 2.81-2.81c.8-.78.8-2.07 0-2.86zM5.41 20L4 18.59l7.72-7.72 1.47 1.35L5.41 20z\"/>\n",
              "  </svg>\n",
              "      </button>\n",
              "      \n",
              "  <style>\n",
              "    .colab-df-container {\n",
              "      display:flex;\n",
              "      flex-wrap:wrap;\n",
              "      gap: 12px;\n",
              "    }\n",
              "\n",
              "    .colab-df-convert {\n",
              "      background-color: #E8F0FE;\n",
              "      border: none;\n",
              "      border-radius: 50%;\n",
              "      cursor: pointer;\n",
              "      display: none;\n",
              "      fill: #1967D2;\n",
              "      height: 32px;\n",
              "      padding: 0 0 0 0;\n",
              "      width: 32px;\n",
              "    }\n",
              "\n",
              "    .colab-df-convert:hover {\n",
              "      background-color: #E2EBFA;\n",
              "      box-shadow: 0px 1px 2px rgba(60, 64, 67, 0.3), 0px 1px 3px 1px rgba(60, 64, 67, 0.15);\n",
              "      fill: #174EA6;\n",
              "    }\n",
              "\n",
              "    [theme=dark] .colab-df-convert {\n",
              "      background-color: #3B4455;\n",
              "      fill: #D2E3FC;\n",
              "    }\n",
              "\n",
              "    [theme=dark] .colab-df-convert:hover {\n",
              "      background-color: #434B5C;\n",
              "      box-shadow: 0px 1px 3px 1px rgba(0, 0, 0, 0.15);\n",
              "      filter: drop-shadow(0px 1px 2px rgba(0, 0, 0, 0.3));\n",
              "      fill: #FFFFFF;\n",
              "    }\n",
              "  </style>\n",
              "\n",
              "      <script>\n",
              "        const buttonEl =\n",
              "          document.querySelector('#df-ab6e5c91-4c4d-48aa-8905-ed5f2294542d button.colab-df-convert');\n",
              "        buttonEl.style.display =\n",
              "          google.colab.kernel.accessAllowed ? 'block' : 'none';\n",
              "\n",
              "        async function convertToInteractive(key) {\n",
              "          const element = document.querySelector('#df-ab6e5c91-4c4d-48aa-8905-ed5f2294542d');\n",
              "          const dataTable =\n",
              "            await google.colab.kernel.invokeFunction('convertToInteractive',\n",
              "                                                     [key], {});\n",
              "          if (!dataTable) return;\n",
              "\n",
              "          const docLinkHtml = 'Like what you see? Visit the ' +\n",
              "            '<a target=\"_blank\" href=https://colab.research.google.com/notebooks/data_table.ipynb>data table notebook</a>'\n",
              "            + ' to learn more about interactive tables.';\n",
              "          element.innerHTML = '';\n",
              "          dataTable['output_type'] = 'display_data';\n",
              "          await google.colab.output.renderOutput(dataTable, element);\n",
              "          const docLink = document.createElement('div');\n",
              "          docLink.innerHTML = docLinkHtml;\n",
              "          element.appendChild(docLink);\n",
              "        }\n",
              "      </script>\n",
              "    </div>\n",
              "  </div>\n",
              "  "
            ]
          },
          "metadata": {},
          "execution_count": 7
        }
      ],
      "source": [
        "# Get conductange range data from file set_sweep.csv\n",
        "names = [\"addr\", \"pw\", \"vwl\", \"vbsl\", \"preread\", \"postread\"]\n",
        "data = pd.read_csv(\"/content/set_sweep.csv\", names=names)\n",
        "data.head(20)"
      ]
    },
    {
      "cell_type": "code",
      "source": [
        "data = pd.read_csv(\"/content/reset_sweep.tsv\", sep='\\t', names=names)\n",
        "data.head(20)"
      ],
      "metadata": {
        "id": "R-q84yfstuYU",
        "outputId": "dce7730b-e4c0-45d8-a0fc-2d8817164193",
        "colab": {
          "base_uri": "https://localhost:8080/",
          "height": 677
        }
      },
      "execution_count": 8,
      "outputs": [
        {
          "output_type": "execute_result",
          "data": {
            "text/plain": [
              "    addr            pw  vwl  vbsl       preread      postread\n",
              "0      0  2.000000e-08  0.5   0.5   9726.189563  10018.123665\n",
              "1      2  2.000000e-08  0.5   1.0   9867.379098   9836.066607\n",
              "2      4  2.000000e-08  0.5   1.5   9773.081709   9902.969536\n",
              "3      6  2.000000e-08  0.5   2.0   9555.136969   9373.063191\n",
              "4      8  2.000000e-08  0.5   2.5   9598.105929   9840.417267\n",
              "5     10  2.000000e-08  0.5   3.0  10154.120560  10130.418229\n",
              "6     12  2.000000e-08  0.6   0.5   9576.502084   9832.650784\n",
              "7     14  2.000000e-08  0.6   1.0   8517.708010   8714.310288\n",
              "8     16  2.000000e-08  0.6   1.5   8885.389926   9046.957580\n",
              "9     18  2.000000e-08  0.6   2.0   8513.328536   8321.666349\n",
              "10    20  2.000000e-08  0.6   2.5   9530.348939   9740.502149\n",
              "11    22  2.000000e-08  0.6   3.0   9421.936243   8959.038643\n",
              "12    24  2.000000e-08  0.7   0.5   8879.111880   8747.804518\n",
              "13    26  2.000000e-08  0.7   1.0   8937.212556   8938.249624\n",
              "14    28  2.000000e-08  0.7   1.5   9533.422496  10336.489138\n",
              "15    30  2.000000e-08  0.7   2.0   8357.976563   8239.564982\n",
              "16    32  2.000000e-08  0.7   2.5   9162.391859   9257.864014\n",
              "17    34  2.000000e-08  0.7   3.0   9354.664712   9286.621569\n",
              "18    36  2.000000e-08  0.8   0.5   9515.155062   9469.702176\n",
              "19    38  2.000000e-08  0.8   1.0   9191.275222   9306.446592"
            ],
            "text/html": [
              "\n",
              "  <div id=\"df-18e8c67b-d7b8-40b2-adee-8ab7b2bea6f9\">\n",
              "    <div class=\"colab-df-container\">\n",
              "      <div>\n",
              "<style scoped>\n",
              "    .dataframe tbody tr th:only-of-type {\n",
              "        vertical-align: middle;\n",
              "    }\n",
              "\n",
              "    .dataframe tbody tr th {\n",
              "        vertical-align: top;\n",
              "    }\n",
              "\n",
              "    .dataframe thead th {\n",
              "        text-align: right;\n",
              "    }\n",
              "</style>\n",
              "<table border=\"1\" class=\"dataframe\">\n",
              "  <thead>\n",
              "    <tr style=\"text-align: right;\">\n",
              "      <th></th>\n",
              "      <th>addr</th>\n",
              "      <th>pw</th>\n",
              "      <th>vwl</th>\n",
              "      <th>vbsl</th>\n",
              "      <th>preread</th>\n",
              "      <th>postread</th>\n",
              "    </tr>\n",
              "  </thead>\n",
              "  <tbody>\n",
              "    <tr>\n",
              "      <th>0</th>\n",
              "      <td>0</td>\n",
              "      <td>2.000000e-08</td>\n",
              "      <td>0.5</td>\n",
              "      <td>0.5</td>\n",
              "      <td>9726.189563</td>\n",
              "      <td>10018.123665</td>\n",
              "    </tr>\n",
              "    <tr>\n",
              "      <th>1</th>\n",
              "      <td>2</td>\n",
              "      <td>2.000000e-08</td>\n",
              "      <td>0.5</td>\n",
              "      <td>1.0</td>\n",
              "      <td>9867.379098</td>\n",
              "      <td>9836.066607</td>\n",
              "    </tr>\n",
              "    <tr>\n",
              "      <th>2</th>\n",
              "      <td>4</td>\n",
              "      <td>2.000000e-08</td>\n",
              "      <td>0.5</td>\n",
              "      <td>1.5</td>\n",
              "      <td>9773.081709</td>\n",
              "      <td>9902.969536</td>\n",
              "    </tr>\n",
              "    <tr>\n",
              "      <th>3</th>\n",
              "      <td>6</td>\n",
              "      <td>2.000000e-08</td>\n",
              "      <td>0.5</td>\n",
              "      <td>2.0</td>\n",
              "      <td>9555.136969</td>\n",
              "      <td>9373.063191</td>\n",
              "    </tr>\n",
              "    <tr>\n",
              "      <th>4</th>\n",
              "      <td>8</td>\n",
              "      <td>2.000000e-08</td>\n",
              "      <td>0.5</td>\n",
              "      <td>2.5</td>\n",
              "      <td>9598.105929</td>\n",
              "      <td>9840.417267</td>\n",
              "    </tr>\n",
              "    <tr>\n",
              "      <th>5</th>\n",
              "      <td>10</td>\n",
              "      <td>2.000000e-08</td>\n",
              "      <td>0.5</td>\n",
              "      <td>3.0</td>\n",
              "      <td>10154.120560</td>\n",
              "      <td>10130.418229</td>\n",
              "    </tr>\n",
              "    <tr>\n",
              "      <th>6</th>\n",
              "      <td>12</td>\n",
              "      <td>2.000000e-08</td>\n",
              "      <td>0.6</td>\n",
              "      <td>0.5</td>\n",
              "      <td>9576.502084</td>\n",
              "      <td>9832.650784</td>\n",
              "    </tr>\n",
              "    <tr>\n",
              "      <th>7</th>\n",
              "      <td>14</td>\n",
              "      <td>2.000000e-08</td>\n",
              "      <td>0.6</td>\n",
              "      <td>1.0</td>\n",
              "      <td>8517.708010</td>\n",
              "      <td>8714.310288</td>\n",
              "    </tr>\n",
              "    <tr>\n",
              "      <th>8</th>\n",
              "      <td>16</td>\n",
              "      <td>2.000000e-08</td>\n",
              "      <td>0.6</td>\n",
              "      <td>1.5</td>\n",
              "      <td>8885.389926</td>\n",
              "      <td>9046.957580</td>\n",
              "    </tr>\n",
              "    <tr>\n",
              "      <th>9</th>\n",
              "      <td>18</td>\n",
              "      <td>2.000000e-08</td>\n",
              "      <td>0.6</td>\n",
              "      <td>2.0</td>\n",
              "      <td>8513.328536</td>\n",
              "      <td>8321.666349</td>\n",
              "    </tr>\n",
              "    <tr>\n",
              "      <th>10</th>\n",
              "      <td>20</td>\n",
              "      <td>2.000000e-08</td>\n",
              "      <td>0.6</td>\n",
              "      <td>2.5</td>\n",
              "      <td>9530.348939</td>\n",
              "      <td>9740.502149</td>\n",
              "    </tr>\n",
              "    <tr>\n",
              "      <th>11</th>\n",
              "      <td>22</td>\n",
              "      <td>2.000000e-08</td>\n",
              "      <td>0.6</td>\n",
              "      <td>3.0</td>\n",
              "      <td>9421.936243</td>\n",
              "      <td>8959.038643</td>\n",
              "    </tr>\n",
              "    <tr>\n",
              "      <th>12</th>\n",
              "      <td>24</td>\n",
              "      <td>2.000000e-08</td>\n",
              "      <td>0.7</td>\n",
              "      <td>0.5</td>\n",
              "      <td>8879.111880</td>\n",
              "      <td>8747.804518</td>\n",
              "    </tr>\n",
              "    <tr>\n",
              "      <th>13</th>\n",
              "      <td>26</td>\n",
              "      <td>2.000000e-08</td>\n",
              "      <td>0.7</td>\n",
              "      <td>1.0</td>\n",
              "      <td>8937.212556</td>\n",
              "      <td>8938.249624</td>\n",
              "    </tr>\n",
              "    <tr>\n",
              "      <th>14</th>\n",
              "      <td>28</td>\n",
              "      <td>2.000000e-08</td>\n",
              "      <td>0.7</td>\n",
              "      <td>1.5</td>\n",
              "      <td>9533.422496</td>\n",
              "      <td>10336.489138</td>\n",
              "    </tr>\n",
              "    <tr>\n",
              "      <th>15</th>\n",
              "      <td>30</td>\n",
              "      <td>2.000000e-08</td>\n",
              "      <td>0.7</td>\n",
              "      <td>2.0</td>\n",
              "      <td>8357.976563</td>\n",
              "      <td>8239.564982</td>\n",
              "    </tr>\n",
              "    <tr>\n",
              "      <th>16</th>\n",
              "      <td>32</td>\n",
              "      <td>2.000000e-08</td>\n",
              "      <td>0.7</td>\n",
              "      <td>2.5</td>\n",
              "      <td>9162.391859</td>\n",
              "      <td>9257.864014</td>\n",
              "    </tr>\n",
              "    <tr>\n",
              "      <th>17</th>\n",
              "      <td>34</td>\n",
              "      <td>2.000000e-08</td>\n",
              "      <td>0.7</td>\n",
              "      <td>3.0</td>\n",
              "      <td>9354.664712</td>\n",
              "      <td>9286.621569</td>\n",
              "    </tr>\n",
              "    <tr>\n",
              "      <th>18</th>\n",
              "      <td>36</td>\n",
              "      <td>2.000000e-08</td>\n",
              "      <td>0.8</td>\n",
              "      <td>0.5</td>\n",
              "      <td>9515.155062</td>\n",
              "      <td>9469.702176</td>\n",
              "    </tr>\n",
              "    <tr>\n",
              "      <th>19</th>\n",
              "      <td>38</td>\n",
              "      <td>2.000000e-08</td>\n",
              "      <td>0.8</td>\n",
              "      <td>1.0</td>\n",
              "      <td>9191.275222</td>\n",
              "      <td>9306.446592</td>\n",
              "    </tr>\n",
              "  </tbody>\n",
              "</table>\n",
              "</div>\n",
              "      <button class=\"colab-df-convert\" onclick=\"convertToInteractive('df-18e8c67b-d7b8-40b2-adee-8ab7b2bea6f9')\"\n",
              "              title=\"Convert this dataframe to an interactive table.\"\n",
              "              style=\"display:none;\">\n",
              "        \n",
              "  <svg xmlns=\"http://www.w3.org/2000/svg\" height=\"24px\"viewBox=\"0 0 24 24\"\n",
              "       width=\"24px\">\n",
              "    <path d=\"M0 0h24v24H0V0z\" fill=\"none\"/>\n",
              "    <path d=\"M18.56 5.44l.94 2.06.94-2.06 2.06-.94-2.06-.94-.94-2.06-.94 2.06-2.06.94zm-11 1L8.5 8.5l.94-2.06 2.06-.94-2.06-.94L8.5 2.5l-.94 2.06-2.06.94zm10 10l.94 2.06.94-2.06 2.06-.94-2.06-.94-.94-2.06-.94 2.06-2.06.94z\"/><path d=\"M17.41 7.96l-1.37-1.37c-.4-.4-.92-.59-1.43-.59-.52 0-1.04.2-1.43.59L10.3 9.45l-7.72 7.72c-.78.78-.78 2.05 0 2.83L4 21.41c.39.39.9.59 1.41.59.51 0 1.02-.2 1.41-.59l7.78-7.78 2.81-2.81c.8-.78.8-2.07 0-2.86zM5.41 20L4 18.59l7.72-7.72 1.47 1.35L5.41 20z\"/>\n",
              "  </svg>\n",
              "      </button>\n",
              "      \n",
              "  <style>\n",
              "    .colab-df-container {\n",
              "      display:flex;\n",
              "      flex-wrap:wrap;\n",
              "      gap: 12px;\n",
              "    }\n",
              "\n",
              "    .colab-df-convert {\n",
              "      background-color: #E8F0FE;\n",
              "      border: none;\n",
              "      border-radius: 50%;\n",
              "      cursor: pointer;\n",
              "      display: none;\n",
              "      fill: #1967D2;\n",
              "      height: 32px;\n",
              "      padding: 0 0 0 0;\n",
              "      width: 32px;\n",
              "    }\n",
              "\n",
              "    .colab-df-convert:hover {\n",
              "      background-color: #E2EBFA;\n",
              "      box-shadow: 0px 1px 2px rgba(60, 64, 67, 0.3), 0px 1px 3px 1px rgba(60, 64, 67, 0.15);\n",
              "      fill: #174EA6;\n",
              "    }\n",
              "\n",
              "    [theme=dark] .colab-df-convert {\n",
              "      background-color: #3B4455;\n",
              "      fill: #D2E3FC;\n",
              "    }\n",
              "\n",
              "    [theme=dark] .colab-df-convert:hover {\n",
              "      background-color: #434B5C;\n",
              "      box-shadow: 0px 1px 3px 1px rgba(0, 0, 0, 0.15);\n",
              "      filter: drop-shadow(0px 1px 2px rgba(0, 0, 0, 0.3));\n",
              "      fill: #FFFFFF;\n",
              "    }\n",
              "  </style>\n",
              "\n",
              "      <script>\n",
              "        const buttonEl =\n",
              "          document.querySelector('#df-18e8c67b-d7b8-40b2-adee-8ab7b2bea6f9 button.colab-df-convert');\n",
              "        buttonEl.style.display =\n",
              "          google.colab.kernel.accessAllowed ? 'block' : 'none';\n",
              "\n",
              "        async function convertToInteractive(key) {\n",
              "          const element = document.querySelector('#df-18e8c67b-d7b8-40b2-adee-8ab7b2bea6f9');\n",
              "          const dataTable =\n",
              "            await google.colab.kernel.invokeFunction('convertToInteractive',\n",
              "                                                     [key], {});\n",
              "          if (!dataTable) return;\n",
              "\n",
              "          const docLinkHtml = 'Like what you see? Visit the ' +\n",
              "            '<a target=\"_blank\" href=https://colab.research.google.com/notebooks/data_table.ipynb>data table notebook</a>'\n",
              "            + ' to learn more about interactive tables.';\n",
              "          element.innerHTML = '';\n",
              "          dataTable['output_type'] = 'display_data';\n",
              "          await google.colab.output.renderOutput(dataTable, element);\n",
              "          const docLink = document.createElement('div');\n",
              "          docLink.innerHTML = docLinkHtml;\n",
              "          element.appendChild(docLink);\n",
              "        }\n",
              "      </script>\n",
              "    </div>\n",
              "  </div>\n",
              "  "
            ]
          },
          "metadata": {},
          "execution_count": 8
        }
      ]
    },
    {
      "cell_type": "markdown",
      "metadata": {
        "id": "ZOoja9TyQr0U"
      },
      "source": [
        "# Data Preprocessing\n",
        "\n",
        "Let us first convert resistance values (pre-read and post-read) to conductance values, and scale each column so that the maximum value is 1."
      ]
    },
    {
      "cell_type": "code",
      "execution_count": 9,
      "metadata": {
        "id": "j17xSRSON6vJ"
      },
      "outputs": [],
      "source": [
        "# Convert resistance to conductance\n",
        "data['preread'] = 1 / data['preread']\n",
        "data['postread'] = 1 / data['postread']"
      ]
    },
    {
      "cell_type": "code",
      "execution_count": 10,
      "metadata": {
        "id": "eSVuw9x_Qp5j"
      },
      "outputs": [],
      "source": [
        "# Creating scaled versions of the columns which have very large or very small scales\n",
        "data['scaled_pw'] = data['pw'] / np.max(data['pw'])\n",
        "data['scaled_preread'] = data['preread'] / np.max(data['preread'])\n",
        "data['scaled_postread'] = data['postread'] / np.max(data['postread'])"
      ]
    },
    {
      "cell_type": "code",
      "execution_count": 11,
      "metadata": {
        "colab": {
          "base_uri": "https://localhost:8080/",
          "height": 677
        },
        "id": "xc9sL_lmTypp",
        "outputId": "471841aa-8baa-4031-857a-5ea9829ec18b"
      },
      "outputs": [
        {
          "output_type": "execute_result",
          "data": {
            "text/plain": [
              "    addr            pw  vwl  vbsl   preread  postread  scaled_pw  \\\n",
              "0      0  2.000000e-08  0.5   0.5  0.000103  0.000100       0.01   \n",
              "1      2  2.000000e-08  0.5   1.0  0.000101  0.000102       0.01   \n",
              "2      4  2.000000e-08  0.5   1.5  0.000102  0.000101       0.01   \n",
              "3      6  2.000000e-08  0.5   2.0  0.000105  0.000107       0.01   \n",
              "4      8  2.000000e-08  0.5   2.5  0.000104  0.000102       0.01   \n",
              "5     10  2.000000e-08  0.5   3.0  0.000098  0.000099       0.01   \n",
              "6     12  2.000000e-08  0.6   0.5  0.000104  0.000102       0.01   \n",
              "7     14  2.000000e-08  0.6   1.0  0.000117  0.000115       0.01   \n",
              "8     16  2.000000e-08  0.6   1.5  0.000113  0.000111       0.01   \n",
              "9     18  2.000000e-08  0.6   2.0  0.000117  0.000120       0.01   \n",
              "10    20  2.000000e-08  0.6   2.5  0.000105  0.000103       0.01   \n",
              "11    22  2.000000e-08  0.6   3.0  0.000106  0.000112       0.01   \n",
              "12    24  2.000000e-08  0.7   0.5  0.000113  0.000114       0.01   \n",
              "13    26  2.000000e-08  0.7   1.0  0.000112  0.000112       0.01   \n",
              "14    28  2.000000e-08  0.7   1.5  0.000105  0.000097       0.01   \n",
              "15    30  2.000000e-08  0.7   2.0  0.000120  0.000121       0.01   \n",
              "16    32  2.000000e-08  0.7   2.5  0.000109  0.000108       0.01   \n",
              "17    34  2.000000e-08  0.7   3.0  0.000107  0.000108       0.01   \n",
              "18    36  2.000000e-08  0.8   0.5  0.000105  0.000106       0.01   \n",
              "19    38  2.000000e-08  0.8   1.0  0.000109  0.000107       0.01   \n",
              "\n",
              "    scaled_preread  scaled_postread  \n",
              "0         0.652873         0.602074  \n",
              "1         0.643531         0.613218  \n",
              "2         0.649740         0.609075  \n",
              "3         0.664560         0.643509  \n",
              "4         0.661585         0.612947  \n",
              "5         0.625358         0.595400  \n",
              "6         0.663077         0.613431  \n",
              "7         0.745501         0.692155  \n",
              "8         0.714652         0.666705  \n",
              "9         0.745885         0.724813  \n",
              "10        0.666289         0.619234  \n",
              "11        0.673955         0.673248  \n",
              "12        0.715157         0.689505  \n",
              "13        0.710508         0.674814  \n",
              "14        0.666074         0.583530  \n",
              "15        0.759749         0.732035  \n",
              "16        0.693046         0.651517  \n",
              "17        0.678802         0.649499  \n",
              "18        0.667353         0.636942  \n",
              "19        0.690869         0.648115  "
            ],
            "text/html": [
              "\n",
              "  <div id=\"df-2ecc1e60-212e-4d37-b833-c6909ca98250\">\n",
              "    <div class=\"colab-df-container\">\n",
              "      <div>\n",
              "<style scoped>\n",
              "    .dataframe tbody tr th:only-of-type {\n",
              "        vertical-align: middle;\n",
              "    }\n",
              "\n",
              "    .dataframe tbody tr th {\n",
              "        vertical-align: top;\n",
              "    }\n",
              "\n",
              "    .dataframe thead th {\n",
              "        text-align: right;\n",
              "    }\n",
              "</style>\n",
              "<table border=\"1\" class=\"dataframe\">\n",
              "  <thead>\n",
              "    <tr style=\"text-align: right;\">\n",
              "      <th></th>\n",
              "      <th>addr</th>\n",
              "      <th>pw</th>\n",
              "      <th>vwl</th>\n",
              "      <th>vbsl</th>\n",
              "      <th>preread</th>\n",
              "      <th>postread</th>\n",
              "      <th>scaled_pw</th>\n",
              "      <th>scaled_preread</th>\n",
              "      <th>scaled_postread</th>\n",
              "    </tr>\n",
              "  </thead>\n",
              "  <tbody>\n",
              "    <tr>\n",
              "      <th>0</th>\n",
              "      <td>0</td>\n",
              "      <td>2.000000e-08</td>\n",
              "      <td>0.5</td>\n",
              "      <td>0.5</td>\n",
              "      <td>0.000103</td>\n",
              "      <td>0.000100</td>\n",
              "      <td>0.01</td>\n",
              "      <td>0.652873</td>\n",
              "      <td>0.602074</td>\n",
              "    </tr>\n",
              "    <tr>\n",
              "      <th>1</th>\n",
              "      <td>2</td>\n",
              "      <td>2.000000e-08</td>\n",
              "      <td>0.5</td>\n",
              "      <td>1.0</td>\n",
              "      <td>0.000101</td>\n",
              "      <td>0.000102</td>\n",
              "      <td>0.01</td>\n",
              "      <td>0.643531</td>\n",
              "      <td>0.613218</td>\n",
              "    </tr>\n",
              "    <tr>\n",
              "      <th>2</th>\n",
              "      <td>4</td>\n",
              "      <td>2.000000e-08</td>\n",
              "      <td>0.5</td>\n",
              "      <td>1.5</td>\n",
              "      <td>0.000102</td>\n",
              "      <td>0.000101</td>\n",
              "      <td>0.01</td>\n",
              "      <td>0.649740</td>\n",
              "      <td>0.609075</td>\n",
              "    </tr>\n",
              "    <tr>\n",
              "      <th>3</th>\n",
              "      <td>6</td>\n",
              "      <td>2.000000e-08</td>\n",
              "      <td>0.5</td>\n",
              "      <td>2.0</td>\n",
              "      <td>0.000105</td>\n",
              "      <td>0.000107</td>\n",
              "      <td>0.01</td>\n",
              "      <td>0.664560</td>\n",
              "      <td>0.643509</td>\n",
              "    </tr>\n",
              "    <tr>\n",
              "      <th>4</th>\n",
              "      <td>8</td>\n",
              "      <td>2.000000e-08</td>\n",
              "      <td>0.5</td>\n",
              "      <td>2.5</td>\n",
              "      <td>0.000104</td>\n",
              "      <td>0.000102</td>\n",
              "      <td>0.01</td>\n",
              "      <td>0.661585</td>\n",
              "      <td>0.612947</td>\n",
              "    </tr>\n",
              "    <tr>\n",
              "      <th>5</th>\n",
              "      <td>10</td>\n",
              "      <td>2.000000e-08</td>\n",
              "      <td>0.5</td>\n",
              "      <td>3.0</td>\n",
              "      <td>0.000098</td>\n",
              "      <td>0.000099</td>\n",
              "      <td>0.01</td>\n",
              "      <td>0.625358</td>\n",
              "      <td>0.595400</td>\n",
              "    </tr>\n",
              "    <tr>\n",
              "      <th>6</th>\n",
              "      <td>12</td>\n",
              "      <td>2.000000e-08</td>\n",
              "      <td>0.6</td>\n",
              "      <td>0.5</td>\n",
              "      <td>0.000104</td>\n",
              "      <td>0.000102</td>\n",
              "      <td>0.01</td>\n",
              "      <td>0.663077</td>\n",
              "      <td>0.613431</td>\n",
              "    </tr>\n",
              "    <tr>\n",
              "      <th>7</th>\n",
              "      <td>14</td>\n",
              "      <td>2.000000e-08</td>\n",
              "      <td>0.6</td>\n",
              "      <td>1.0</td>\n",
              "      <td>0.000117</td>\n",
              "      <td>0.000115</td>\n",
              "      <td>0.01</td>\n",
              "      <td>0.745501</td>\n",
              "      <td>0.692155</td>\n",
              "    </tr>\n",
              "    <tr>\n",
              "      <th>8</th>\n",
              "      <td>16</td>\n",
              "      <td>2.000000e-08</td>\n",
              "      <td>0.6</td>\n",
              "      <td>1.5</td>\n",
              "      <td>0.000113</td>\n",
              "      <td>0.000111</td>\n",
              "      <td>0.01</td>\n",
              "      <td>0.714652</td>\n",
              "      <td>0.666705</td>\n",
              "    </tr>\n",
              "    <tr>\n",
              "      <th>9</th>\n",
              "      <td>18</td>\n",
              "      <td>2.000000e-08</td>\n",
              "      <td>0.6</td>\n",
              "      <td>2.0</td>\n",
              "      <td>0.000117</td>\n",
              "      <td>0.000120</td>\n",
              "      <td>0.01</td>\n",
              "      <td>0.745885</td>\n",
              "      <td>0.724813</td>\n",
              "    </tr>\n",
              "    <tr>\n",
              "      <th>10</th>\n",
              "      <td>20</td>\n",
              "      <td>2.000000e-08</td>\n",
              "      <td>0.6</td>\n",
              "      <td>2.5</td>\n",
              "      <td>0.000105</td>\n",
              "      <td>0.000103</td>\n",
              "      <td>0.01</td>\n",
              "      <td>0.666289</td>\n",
              "      <td>0.619234</td>\n",
              "    </tr>\n",
              "    <tr>\n",
              "      <th>11</th>\n",
              "      <td>22</td>\n",
              "      <td>2.000000e-08</td>\n",
              "      <td>0.6</td>\n",
              "      <td>3.0</td>\n",
              "      <td>0.000106</td>\n",
              "      <td>0.000112</td>\n",
              "      <td>0.01</td>\n",
              "      <td>0.673955</td>\n",
              "      <td>0.673248</td>\n",
              "    </tr>\n",
              "    <tr>\n",
              "      <th>12</th>\n",
              "      <td>24</td>\n",
              "      <td>2.000000e-08</td>\n",
              "      <td>0.7</td>\n",
              "      <td>0.5</td>\n",
              "      <td>0.000113</td>\n",
              "      <td>0.000114</td>\n",
              "      <td>0.01</td>\n",
              "      <td>0.715157</td>\n",
              "      <td>0.689505</td>\n",
              "    </tr>\n",
              "    <tr>\n",
              "      <th>13</th>\n",
              "      <td>26</td>\n",
              "      <td>2.000000e-08</td>\n",
              "      <td>0.7</td>\n",
              "      <td>1.0</td>\n",
              "      <td>0.000112</td>\n",
              "      <td>0.000112</td>\n",
              "      <td>0.01</td>\n",
              "      <td>0.710508</td>\n",
              "      <td>0.674814</td>\n",
              "    </tr>\n",
              "    <tr>\n",
              "      <th>14</th>\n",
              "      <td>28</td>\n",
              "      <td>2.000000e-08</td>\n",
              "      <td>0.7</td>\n",
              "      <td>1.5</td>\n",
              "      <td>0.000105</td>\n",
              "      <td>0.000097</td>\n",
              "      <td>0.01</td>\n",
              "      <td>0.666074</td>\n",
              "      <td>0.583530</td>\n",
              "    </tr>\n",
              "    <tr>\n",
              "      <th>15</th>\n",
              "      <td>30</td>\n",
              "      <td>2.000000e-08</td>\n",
              "      <td>0.7</td>\n",
              "      <td>2.0</td>\n",
              "      <td>0.000120</td>\n",
              "      <td>0.000121</td>\n",
              "      <td>0.01</td>\n",
              "      <td>0.759749</td>\n",
              "      <td>0.732035</td>\n",
              "    </tr>\n",
              "    <tr>\n",
              "      <th>16</th>\n",
              "      <td>32</td>\n",
              "      <td>2.000000e-08</td>\n",
              "      <td>0.7</td>\n",
              "      <td>2.5</td>\n",
              "      <td>0.000109</td>\n",
              "      <td>0.000108</td>\n",
              "      <td>0.01</td>\n",
              "      <td>0.693046</td>\n",
              "      <td>0.651517</td>\n",
              "    </tr>\n",
              "    <tr>\n",
              "      <th>17</th>\n",
              "      <td>34</td>\n",
              "      <td>2.000000e-08</td>\n",
              "      <td>0.7</td>\n",
              "      <td>3.0</td>\n",
              "      <td>0.000107</td>\n",
              "      <td>0.000108</td>\n",
              "      <td>0.01</td>\n",
              "      <td>0.678802</td>\n",
              "      <td>0.649499</td>\n",
              "    </tr>\n",
              "    <tr>\n",
              "      <th>18</th>\n",
              "      <td>36</td>\n",
              "      <td>2.000000e-08</td>\n",
              "      <td>0.8</td>\n",
              "      <td>0.5</td>\n",
              "      <td>0.000105</td>\n",
              "      <td>0.000106</td>\n",
              "      <td>0.01</td>\n",
              "      <td>0.667353</td>\n",
              "      <td>0.636942</td>\n",
              "    </tr>\n",
              "    <tr>\n",
              "      <th>19</th>\n",
              "      <td>38</td>\n",
              "      <td>2.000000e-08</td>\n",
              "      <td>0.8</td>\n",
              "      <td>1.0</td>\n",
              "      <td>0.000109</td>\n",
              "      <td>0.000107</td>\n",
              "      <td>0.01</td>\n",
              "      <td>0.690869</td>\n",
              "      <td>0.648115</td>\n",
              "    </tr>\n",
              "  </tbody>\n",
              "</table>\n",
              "</div>\n",
              "      <button class=\"colab-df-convert\" onclick=\"convertToInteractive('df-2ecc1e60-212e-4d37-b833-c6909ca98250')\"\n",
              "              title=\"Convert this dataframe to an interactive table.\"\n",
              "              style=\"display:none;\">\n",
              "        \n",
              "  <svg xmlns=\"http://www.w3.org/2000/svg\" height=\"24px\"viewBox=\"0 0 24 24\"\n",
              "       width=\"24px\">\n",
              "    <path d=\"M0 0h24v24H0V0z\" fill=\"none\"/>\n",
              "    <path d=\"M18.56 5.44l.94 2.06.94-2.06 2.06-.94-2.06-.94-.94-2.06-.94 2.06-2.06.94zm-11 1L8.5 8.5l.94-2.06 2.06-.94-2.06-.94L8.5 2.5l-.94 2.06-2.06.94zm10 10l.94 2.06.94-2.06 2.06-.94-2.06-.94-.94-2.06-.94 2.06-2.06.94z\"/><path d=\"M17.41 7.96l-1.37-1.37c-.4-.4-.92-.59-1.43-.59-.52 0-1.04.2-1.43.59L10.3 9.45l-7.72 7.72c-.78.78-.78 2.05 0 2.83L4 21.41c.39.39.9.59 1.41.59.51 0 1.02-.2 1.41-.59l7.78-7.78 2.81-2.81c.8-.78.8-2.07 0-2.86zM5.41 20L4 18.59l7.72-7.72 1.47 1.35L5.41 20z\"/>\n",
              "  </svg>\n",
              "      </button>\n",
              "      \n",
              "  <style>\n",
              "    .colab-df-container {\n",
              "      display:flex;\n",
              "      flex-wrap:wrap;\n",
              "      gap: 12px;\n",
              "    }\n",
              "\n",
              "    .colab-df-convert {\n",
              "      background-color: #E8F0FE;\n",
              "      border: none;\n",
              "      border-radius: 50%;\n",
              "      cursor: pointer;\n",
              "      display: none;\n",
              "      fill: #1967D2;\n",
              "      height: 32px;\n",
              "      padding: 0 0 0 0;\n",
              "      width: 32px;\n",
              "    }\n",
              "\n",
              "    .colab-df-convert:hover {\n",
              "      background-color: #E2EBFA;\n",
              "      box-shadow: 0px 1px 2px rgba(60, 64, 67, 0.3), 0px 1px 3px 1px rgba(60, 64, 67, 0.15);\n",
              "      fill: #174EA6;\n",
              "    }\n",
              "\n",
              "    [theme=dark] .colab-df-convert {\n",
              "      background-color: #3B4455;\n",
              "      fill: #D2E3FC;\n",
              "    }\n",
              "\n",
              "    [theme=dark] .colab-df-convert:hover {\n",
              "      background-color: #434B5C;\n",
              "      box-shadow: 0px 1px 3px 1px rgba(0, 0, 0, 0.15);\n",
              "      filter: drop-shadow(0px 1px 2px rgba(0, 0, 0, 0.3));\n",
              "      fill: #FFFFFF;\n",
              "    }\n",
              "  </style>\n",
              "\n",
              "      <script>\n",
              "        const buttonEl =\n",
              "          document.querySelector('#df-2ecc1e60-212e-4d37-b833-c6909ca98250 button.colab-df-convert');\n",
              "        buttonEl.style.display =\n",
              "          google.colab.kernel.accessAllowed ? 'block' : 'none';\n",
              "\n",
              "        async function convertToInteractive(key) {\n",
              "          const element = document.querySelector('#df-2ecc1e60-212e-4d37-b833-c6909ca98250');\n",
              "          const dataTable =\n",
              "            await google.colab.kernel.invokeFunction('convertToInteractive',\n",
              "                                                     [key], {});\n",
              "          if (!dataTable) return;\n",
              "\n",
              "          const docLinkHtml = 'Like what you see? Visit the ' +\n",
              "            '<a target=\"_blank\" href=https://colab.research.google.com/notebooks/data_table.ipynb>data table notebook</a>'\n",
              "            + ' to learn more about interactive tables.';\n",
              "          element.innerHTML = '';\n",
              "          dataTable['output_type'] = 'display_data';\n",
              "          await google.colab.output.renderOutput(dataTable, element);\n",
              "          const docLink = document.createElement('div');\n",
              "          docLink.innerHTML = docLinkHtml;\n",
              "          element.appendChild(docLink);\n",
              "        }\n",
              "      </script>\n",
              "    </div>\n",
              "  </div>\n",
              "  "
            ]
          },
          "metadata": {},
          "execution_count": 11
        }
      ],
      "source": [
        "# Take a peek at the preprocessed data\n",
        "data.head(20)"
      ]
    },
    {
      "cell_type": "markdown",
      "metadata": {
        "id": "HlNBq4p9NUob"
      },
      "source": [
        "### Train Test Split\n",
        "Here, we make a 70%-30% split of the data into training and testing datasets"
      ]
    },
    {
      "cell_type": "code",
      "execution_count": 12,
      "metadata": {
        "id": "b1pC9G4tgrjX"
      },
      "outputs": [],
      "source": [
        "# Train-test 70%-30% split\n",
        "x = data[[\"scaled_preread\",\"scaled_pw\",\"vwl\",\"vbsl\"]].to_numpy()\n",
        "y = data[\"scaled_postread\"].to_numpy()\n",
        "X_train, X_test, y_train, y_test = train_test_split(x, y, test_size=0.3, random_state=42)"
      ]
    },
    {
      "cell_type": "markdown",
      "metadata": {
        "id": "iwFwLSaLrGDP"
      },
      "source": [
        "### Training/Testing Model"
      ]
    },
    {
      "cell_type": "code",
      "execution_count": 13,
      "metadata": {
        "colab": {
          "base_uri": "https://localhost:8080/"
        },
        "id": "M09Lil8DrFtz",
        "outputId": "977b79b4-d57c-4c71-a5a0-706fe8ba8da4"
      },
      "outputs": [
        {
          "output_type": "stream",
          "name": "stdout",
          "text": [
            "Training MLPRegressor...\n",
            "Done in 3.510s\n",
            "Test R2 score: 0.60119\n"
          ]
        }
      ],
      "source": [
        "# Training the MLP regressor\n",
        "print(\"Training MLPRegressor...\")\n",
        "tic = time()\n",
        "est = make_pipeline(\n",
        "    QuantileTransformer(),\n",
        "    MLPRegressor(\n",
        "        hidden_layer_sizes=(45, 23),\n",
        "        learning_rate_init=0.03,\n",
        "        early_stopping=True,\n",
        "        random_state=0,\n",
        "    ),\n",
        ")\n",
        "est.fit(X_train, y_train)\n",
        "print(f\"Done in {time() - tic:.3f}s\")\n",
        "print(f\"Test R2 score: {est.score(X_test, y_test):.5f}\")"
      ]
    },
    {
      "cell_type": "code",
      "execution_count": 14,
      "metadata": {
        "colab": {
          "base_uri": "https://localhost:8080/"
        },
        "id": "T7xli8cKhfgm",
        "outputId": "bfdf37f3-93a0-4540-a4c7-18e67078220e"
      },
      "outputs": [
        {
          "output_type": "execute_result",
          "data": {
            "text/plain": [
              "0.041820615218246586"
            ]
          },
          "metadata": {},
          "execution_count": 14
        }
      ],
      "source": [
        "# Root Mean Squared Error (RMSE) on training dataset\n",
        "predictions = est.predict(X_train)\n",
        "mean_squared_error(y_train, predictions, squared=False)"
      ]
    },
    {
      "cell_type": "code",
      "execution_count": 15,
      "metadata": {
        "colab": {
          "base_uri": "https://localhost:8080/"
        },
        "id": "c6MY3CyyYK5V",
        "outputId": "2fe3603c-028c-42c2-89c3-cefabd28d8fd"
      },
      "outputs": [
        {
          "output_type": "execute_result",
          "data": {
            "text/plain": [
              "0.0017489638572326378"
            ]
          },
          "metadata": {},
          "execution_count": 15
        }
      ],
      "source": [
        "# Mean Squared Error (MSE) on training dataset\n",
        "mean_squared_error(y_train, predictions, squared=True)"
      ]
    },
    {
      "cell_type": "code",
      "execution_count": 16,
      "metadata": {
        "colab": {
          "base_uri": "https://localhost:8080/"
        },
        "id": "lMFmU1z7YEkZ",
        "outputId": "7175840a-3985-4273-9731-976b6da539b4"
      },
      "outputs": [
        {
          "output_type": "execute_result",
          "data": {
            "text/plain": [
              "0.04170019198952083"
            ]
          },
          "metadata": {},
          "execution_count": 16
        }
      ],
      "source": [
        "# Root Mean Squared Error (RMSE) on testing dataset\n",
        "predictions = est.predict(X_test)\n",
        "predictions_orig = est.predict(X_test)\n",
        "mean_squared_error(y_test, predictions, squared=False)"
      ]
    },
    {
      "cell_type": "code",
      "source": [
        "y_test_orig = y_test"
      ],
      "metadata": {
        "id": "aIx3owj5JQTD"
      },
      "execution_count": 17,
      "outputs": []
    },
    {
      "cell_type": "code",
      "execution_count": 18,
      "metadata": {
        "colab": {
          "base_uri": "https://localhost:8080/"
        },
        "id": "F9kX7YF8SqlW",
        "outputId": "d7b8eff4-c9b8-4e1b-cf89-1789b83d6b0e"
      },
      "outputs": [
        {
          "output_type": "execute_result",
          "data": {
            "text/plain": [
              "0.0017389060119628974"
            ]
          },
          "metadata": {},
          "execution_count": 18
        }
      ],
      "source": [
        "# Mean Squared Error (MSE) on testing dataset\n",
        "mean_squared_error(y_test, predictions, squared=True)"
      ]
    },
    {
      "cell_type": "markdown",
      "metadata": {
        "id": "aUzaDUixVAp-"
      },
      "source": [
        "### Testing on subset of testing data where there was a significant change in conductance (>= 50%)"
      ]
    },
    {
      "cell_type": "code",
      "execution_count": 19,
      "metadata": {
        "colab": {
          "base_uri": "https://localhost:8080/"
        },
        "id": "svaHoXF7VVbA",
        "outputId": "503c7d1a-54fb-4eb0-8ded-433835f9fa71"
      },
      "outputs": [
        {
          "output_type": "execute_result",
          "data": {
            "text/plain": [
              "(array([[0.66111483, 0.5       , 3.3       , 3.        ],\n",
              "        [0.66379318, 1.        , 3.2       , 3.        ],\n",
              "        [0.70127194, 1.        , 2.9       , 3.        ],\n",
              "        [0.69663342, 0.5       , 3.2       , 3.        ],\n",
              "        [0.73510417, 0.5       , 2.9       , 3.        ],\n",
              "        [0.67853524, 1.        , 2.5       , 3.        ],\n",
              "        [0.76459209, 1.        , 3.2       , 3.        ],\n",
              "        [0.66774132, 1.        , 3.        , 3.        ],\n",
              "        [0.66258675, 1.        , 3.3       , 3.        ],\n",
              "        [0.69168001, 1.        , 2.6       , 3.        ],\n",
              "        [0.68577619, 1.        , 3.3       , 3.        ],\n",
              "        [0.64819991, 0.5       , 2.9       , 3.        ],\n",
              "        [0.82770967, 1.        , 2.7       , 3.        ],\n",
              "        [0.71040515, 1.        , 3.3       , 3.        ]]),\n",
              " array([0.14190148, 0.1626192 , 0.1045876 , 0.19321496, 0.15340063,\n",
              "        0.16902692, 0.20355361, 0.1650402 , 0.12579359, 0.18563967,\n",
              "        0.13951739, 0.14496318, 0.29503389, 0.1219447 ]))"
            ]
          },
          "metadata": {},
          "execution_count": 19
        }
      ],
      "source": [
        "# Filter the testing data to a subset\n",
        "# Condition: |preread - postread| >= 50%\n",
        "condition = (np.abs(X_test[:,0] - y_test) >= 0.5)\n",
        "cond_X_test, cond_y_test = X_test[condition], y_test[condition]\n",
        "cond_X_test, cond_y_test"
      ]
    },
    {
      "cell_type": "code",
      "execution_count": 20,
      "metadata": {
        "colab": {
          "base_uri": "https://localhost:8080/"
        },
        "id": "c_a1UwIlkWf_",
        "outputId": "623b09f7-8b99-4d23-8b23-43bac69156e9"
      },
      "outputs": [
        {
          "output_type": "execute_result",
          "data": {
            "text/plain": [
              "0.041820615218246586"
            ]
          },
          "metadata": {},
          "execution_count": 20
        }
      ],
      "source": [
        "# Root Mean Squared Error (RMSE) on training dataset\n",
        "predictions = est.predict(X_train)\n",
        "mean_squared_error(y_train, predictions, squared=False)"
      ]
    },
    {
      "cell_type": "code",
      "execution_count": 21,
      "metadata": {
        "colab": {
          "base_uri": "https://localhost:8080/"
        },
        "id": "8YEeGJ_vkWgA",
        "outputId": "6ec37a22-fc1b-4189-be33-cf003a8b8b01"
      },
      "outputs": [
        {
          "output_type": "execute_result",
          "data": {
            "text/plain": [
              "0.0017489638572326378"
            ]
          },
          "metadata": {},
          "execution_count": 21
        }
      ],
      "source": [
        "# Mean Squared Error (MSE) on training dataset\n",
        "mean_squared_error(y_train, predictions, squared=True)"
      ]
    },
    {
      "cell_type": "code",
      "execution_count": 22,
      "metadata": {
        "colab": {
          "base_uri": "https://localhost:8080/"
        },
        "id": "h2oq2_imkWgB",
        "outputId": "f89b1858-3333-4276-b6ce-9a02ab9d6f65"
      },
      "outputs": [
        {
          "output_type": "execute_result",
          "data": {
            "text/plain": [
              "0.40251856975808065"
            ]
          },
          "metadata": {},
          "execution_count": 22
        }
      ],
      "source": [
        "# Root Mean Squared Error (RMSE) on testing dataset\n",
        "predictions = est.predict(cond_X_test)\n",
        "mean_squared_error(cond_y_test, predictions, squared=False)"
      ]
    },
    {
      "cell_type": "code",
      "execution_count": 23,
      "metadata": {
        "colab": {
          "base_uri": "https://localhost:8080/"
        },
        "id": "Gx1qj0FOkWgB",
        "outputId": "3975a6cb-ca17-4741-cf0a-132957dc5de8"
      },
      "outputs": [
        {
          "output_type": "execute_result",
          "data": {
            "text/plain": [
              "0.16202119900009082"
            ]
          },
          "metadata": {},
          "execution_count": 23
        }
      ],
      "source": [
        "# Mean Squared Error (MSE) on testing dataset\n",
        "mean_squared_error(cond_y_test, predictions, squared=True)"
      ]
    },
    {
      "cell_type": "markdown",
      "metadata": {
        "id": "P4lSMLUlkD4E"
      },
      "source": [
        "### Testing on subset of testing data where there was a miniscule change in conductance (<= 5%)"
      ]
    },
    {
      "cell_type": "code",
      "execution_count": 24,
      "metadata": {
        "colab": {
          "base_uri": "https://localhost:8080/"
        },
        "id": "Evd-ntNUj7OC",
        "outputId": "e050d5a2-c190-4f1c-b0d0-fd1d8576b635"
      },
      "outputs": [
        {
          "output_type": "execute_result",
          "data": {
            "text/plain": [
              "(array([[0.71827266, 0.2       , 3.3       , 3.        ],\n",
              "        [0.66499985, 0.5       , 1.8       , 2.        ],\n",
              "        [0.68991339, 0.02      , 2.8       , 2.5       ],\n",
              "        ...,\n",
              "        [0.64270547, 0.1       , 1.1       , 2.5       ],\n",
              "        [0.84469028, 1.        , 2.2       , 2.5       ],\n",
              "        [0.73692549, 0.1       , 2.8       , 3.        ]]),\n",
              " array([0.69400085, 0.64989859, 0.67550853, ..., 0.63111104, 0.85131999,\n",
              "        0.70778628]))"
            ]
          },
          "metadata": {},
          "execution_count": 24
        }
      ],
      "source": [
        "# Filter the testing data to a subset\n",
        "# NOTE: the first column of X_test is preread conductance\n",
        "# Condition: |preread - postread| <= 5%\n",
        "condition = (np.abs(X_test[:,0] - y_test) <= 0.05)\n",
        "cond_X_test, cond_y_test = X_test[condition], y_test[condition]\n",
        "cond_X_test, cond_y_test"
      ]
    },
    {
      "cell_type": "code",
      "execution_count": 25,
      "metadata": {
        "colab": {
          "base_uri": "https://localhost:8080/"
        },
        "id": "-g7ceqtFkXf9",
        "outputId": "9f925994-1ed5-4004-c43e-5783c237a213"
      },
      "outputs": [
        {
          "output_type": "execute_result",
          "data": {
            "text/plain": [
              "0.041820615218246586"
            ]
          },
          "metadata": {},
          "execution_count": 25
        }
      ],
      "source": [
        "# Root Mean Squared Error (RMSE) on training dataset\n",
        "predictions = est.predict(X_train)\n",
        "mean_squared_error(y_train, predictions, squared=False)"
      ]
    },
    {
      "cell_type": "code",
      "execution_count": 26,
      "metadata": {
        "colab": {
          "base_uri": "https://localhost:8080/"
        },
        "id": "3HkK7OqckXf9",
        "outputId": "70ad24d2-34e3-478b-c4be-520ed038dc1b"
      },
      "outputs": [
        {
          "output_type": "execute_result",
          "data": {
            "text/plain": [
              "0.0017489638572326378"
            ]
          },
          "metadata": {},
          "execution_count": 26
        }
      ],
      "source": [
        "# Mean Squared Error (MSE) on training dataset\n",
        "mean_squared_error(y_train, predictions, squared=True)"
      ]
    },
    {
      "cell_type": "code",
      "execution_count": 27,
      "metadata": {
        "colab": {
          "base_uri": "https://localhost:8080/"
        },
        "id": "jXew1eRokXf-",
        "outputId": "7ff22ed2-6848-4e3d-d516-7c2d3f698b2e"
      },
      "outputs": [
        {
          "output_type": "execute_result",
          "data": {
            "text/plain": [
              "0.026237399351757996"
            ]
          },
          "metadata": {},
          "execution_count": 27
        }
      ],
      "source": [
        "# Root Mean Squared Error (RMSE) on testing dataset\n",
        "predictions = est.predict(cond_X_test)\n",
        "mean_squared_error(cond_y_test, predictions, squared=False)"
      ]
    },
    {
      "cell_type": "code",
      "execution_count": 28,
      "metadata": {
        "colab": {
          "base_uri": "https://localhost:8080/"
        },
        "id": "5wHm5nb7kXf-",
        "outputId": "222c4868-ca64-457d-b1ee-61703b8028f8"
      },
      "outputs": [
        {
          "output_type": "execute_result",
          "data": {
            "text/plain": [
              "0.000688401124743631"
            ]
          },
          "metadata": {},
          "execution_count": 28
        }
      ],
      "source": [
        "# Mean Squared Error (MSE) on testing dataset\n",
        "mean_squared_error(cond_y_test, predictions, squared=True)"
      ]
    },
    {
      "cell_type": "code",
      "source": [
        "#NOTE\n",
        "#set_sweep mse was 0.0604 for overall test data, 0.0505 for >=50% data, 0.0466 for <=5% data\n",
        "#reset_sweep mse was 0.0417 for overall test data, 0.4025 for >=50% data, 0.0262 for <=5% data"
      ],
      "metadata": {
        "id": "uou414Q_uDK5"
      },
      "execution_count": 36,
      "outputs": []
    },
    {
      "cell_type": "markdown",
      "source": [
        "#Visualizations"
      ],
      "metadata": {
        "id": "frLivyhad2jf"
      }
    },
    {
      "cell_type": "code",
      "source": [
        "#plot predicted conductance values vs real conductance values\n",
        "df2 = pd.DataFrame(list(zip(y_test_orig, predictions_orig)), columns = [\"real\",\"predicted\"])\n",
        "df2"
      ],
      "metadata": {
        "colab": {
          "base_uri": "https://localhost:8080/",
          "height": 424
        },
        "id": "jLktl5MGPZEg",
        "outputId": "2205e28b-a386-4098-b81c-306862071505"
      },
      "execution_count": 37,
      "outputs": [
        {
          "output_type": "execute_result",
          "data": {
            "text/plain": [
              "          real  predicted\n",
              "0     0.609540   0.648763\n",
              "1     0.694001   0.629363\n",
              "2     0.649899   0.638597\n",
              "3     0.675509   0.657716\n",
              "4     0.616065   0.616976\n",
              "...        ...        ...\n",
              "9826  0.631111   0.621717\n",
              "9827  0.631509   0.660261\n",
              "9828  0.851320   0.794484\n",
              "9829  0.669521   0.682672\n",
              "9830  0.707786   0.701494\n",
              "\n",
              "[9831 rows x 2 columns]"
            ],
            "text/html": [
              "\n",
              "  <div id=\"df-0536f0f4-e788-4c1c-9af5-ffb247012f45\">\n",
              "    <div class=\"colab-df-container\">\n",
              "      <div>\n",
              "<style scoped>\n",
              "    .dataframe tbody tr th:only-of-type {\n",
              "        vertical-align: middle;\n",
              "    }\n",
              "\n",
              "    .dataframe tbody tr th {\n",
              "        vertical-align: top;\n",
              "    }\n",
              "\n",
              "    .dataframe thead th {\n",
              "        text-align: right;\n",
              "    }\n",
              "</style>\n",
              "<table border=\"1\" class=\"dataframe\">\n",
              "  <thead>\n",
              "    <tr style=\"text-align: right;\">\n",
              "      <th></th>\n",
              "      <th>real</th>\n",
              "      <th>predicted</th>\n",
              "    </tr>\n",
              "  </thead>\n",
              "  <tbody>\n",
              "    <tr>\n",
              "      <th>0</th>\n",
              "      <td>0.609540</td>\n",
              "      <td>0.648763</td>\n",
              "    </tr>\n",
              "    <tr>\n",
              "      <th>1</th>\n",
              "      <td>0.694001</td>\n",
              "      <td>0.629363</td>\n",
              "    </tr>\n",
              "    <tr>\n",
              "      <th>2</th>\n",
              "      <td>0.649899</td>\n",
              "      <td>0.638597</td>\n",
              "    </tr>\n",
              "    <tr>\n",
              "      <th>3</th>\n",
              "      <td>0.675509</td>\n",
              "      <td>0.657716</td>\n",
              "    </tr>\n",
              "    <tr>\n",
              "      <th>4</th>\n",
              "      <td>0.616065</td>\n",
              "      <td>0.616976</td>\n",
              "    </tr>\n",
              "    <tr>\n",
              "      <th>...</th>\n",
              "      <td>...</td>\n",
              "      <td>...</td>\n",
              "    </tr>\n",
              "    <tr>\n",
              "      <th>9826</th>\n",
              "      <td>0.631111</td>\n",
              "      <td>0.621717</td>\n",
              "    </tr>\n",
              "    <tr>\n",
              "      <th>9827</th>\n",
              "      <td>0.631509</td>\n",
              "      <td>0.660261</td>\n",
              "    </tr>\n",
              "    <tr>\n",
              "      <th>9828</th>\n",
              "      <td>0.851320</td>\n",
              "      <td>0.794484</td>\n",
              "    </tr>\n",
              "    <tr>\n",
              "      <th>9829</th>\n",
              "      <td>0.669521</td>\n",
              "      <td>0.682672</td>\n",
              "    </tr>\n",
              "    <tr>\n",
              "      <th>9830</th>\n",
              "      <td>0.707786</td>\n",
              "      <td>0.701494</td>\n",
              "    </tr>\n",
              "  </tbody>\n",
              "</table>\n",
              "<p>9831 rows × 2 columns</p>\n",
              "</div>\n",
              "      <button class=\"colab-df-convert\" onclick=\"convertToInteractive('df-0536f0f4-e788-4c1c-9af5-ffb247012f45')\"\n",
              "              title=\"Convert this dataframe to an interactive table.\"\n",
              "              style=\"display:none;\">\n",
              "        \n",
              "  <svg xmlns=\"http://www.w3.org/2000/svg\" height=\"24px\"viewBox=\"0 0 24 24\"\n",
              "       width=\"24px\">\n",
              "    <path d=\"M0 0h24v24H0V0z\" fill=\"none\"/>\n",
              "    <path d=\"M18.56 5.44l.94 2.06.94-2.06 2.06-.94-2.06-.94-.94-2.06-.94 2.06-2.06.94zm-11 1L8.5 8.5l.94-2.06 2.06-.94-2.06-.94L8.5 2.5l-.94 2.06-2.06.94zm10 10l.94 2.06.94-2.06 2.06-.94-2.06-.94-.94-2.06-.94 2.06-2.06.94z\"/><path d=\"M17.41 7.96l-1.37-1.37c-.4-.4-.92-.59-1.43-.59-.52 0-1.04.2-1.43.59L10.3 9.45l-7.72 7.72c-.78.78-.78 2.05 0 2.83L4 21.41c.39.39.9.59 1.41.59.51 0 1.02-.2 1.41-.59l7.78-7.78 2.81-2.81c.8-.78.8-2.07 0-2.86zM5.41 20L4 18.59l7.72-7.72 1.47 1.35L5.41 20z\"/>\n",
              "  </svg>\n",
              "      </button>\n",
              "      \n",
              "  <style>\n",
              "    .colab-df-container {\n",
              "      display:flex;\n",
              "      flex-wrap:wrap;\n",
              "      gap: 12px;\n",
              "    }\n",
              "\n",
              "    .colab-df-convert {\n",
              "      background-color: #E8F0FE;\n",
              "      border: none;\n",
              "      border-radius: 50%;\n",
              "      cursor: pointer;\n",
              "      display: none;\n",
              "      fill: #1967D2;\n",
              "      height: 32px;\n",
              "      padding: 0 0 0 0;\n",
              "      width: 32px;\n",
              "    }\n",
              "\n",
              "    .colab-df-convert:hover {\n",
              "      background-color: #E2EBFA;\n",
              "      box-shadow: 0px 1px 2px rgba(60, 64, 67, 0.3), 0px 1px 3px 1px rgba(60, 64, 67, 0.15);\n",
              "      fill: #174EA6;\n",
              "    }\n",
              "\n",
              "    [theme=dark] .colab-df-convert {\n",
              "      background-color: #3B4455;\n",
              "      fill: #D2E3FC;\n",
              "    }\n",
              "\n",
              "    [theme=dark] .colab-df-convert:hover {\n",
              "      background-color: #434B5C;\n",
              "      box-shadow: 0px 1px 3px 1px rgba(0, 0, 0, 0.15);\n",
              "      filter: drop-shadow(0px 1px 2px rgba(0, 0, 0, 0.3));\n",
              "      fill: #FFFFFF;\n",
              "    }\n",
              "  </style>\n",
              "\n",
              "      <script>\n",
              "        const buttonEl =\n",
              "          document.querySelector('#df-0536f0f4-e788-4c1c-9af5-ffb247012f45 button.colab-df-convert');\n",
              "        buttonEl.style.display =\n",
              "          google.colab.kernel.accessAllowed ? 'block' : 'none';\n",
              "\n",
              "        async function convertToInteractive(key) {\n",
              "          const element = document.querySelector('#df-0536f0f4-e788-4c1c-9af5-ffb247012f45');\n",
              "          const dataTable =\n",
              "            await google.colab.kernel.invokeFunction('convertToInteractive',\n",
              "                                                     [key], {});\n",
              "          if (!dataTable) return;\n",
              "\n",
              "          const docLinkHtml = 'Like what you see? Visit the ' +\n",
              "            '<a target=\"_blank\" href=https://colab.research.google.com/notebooks/data_table.ipynb>data table notebook</a>'\n",
              "            + ' to learn more about interactive tables.';\n",
              "          element.innerHTML = '';\n",
              "          dataTable['output_type'] = 'display_data';\n",
              "          await google.colab.output.renderOutput(dataTable, element);\n",
              "          const docLink = document.createElement('div');\n",
              "          docLink.innerHTML = docLinkHtml;\n",
              "          element.appendChild(docLink);\n",
              "        }\n",
              "      </script>\n",
              "    </div>\n",
              "  </div>\n",
              "  "
            ]
          },
          "metadata": {},
          "execution_count": 37
        }
      ]
    },
    {
      "cell_type": "code",
      "source": [
        "import matplotlib.pyplot as plt\n",
        "plt.scatter(df2[\"real\"], df2[\"predicted\"], s=1)\n",
        "plt.plot([0, 1], [0, 1], \"r\")"
      ],
      "metadata": {
        "colab": {
          "base_uri": "https://localhost:8080/",
          "height": 282
        },
        "id": "TrQBR9sMO3xK",
        "outputId": "44e972fc-df2c-4903-f715-bcba1113b97d"
      },
      "execution_count": 38,
      "outputs": [
        {
          "output_type": "execute_result",
          "data": {
            "text/plain": [
              "[<matplotlib.lines.Line2D at 0x7f6205d25d90>]"
            ]
          },
          "metadata": {},
          "execution_count": 38
        },
        {
          "output_type": "display_data",
          "data": {
            "text/plain": [
              "<Figure size 432x288 with 1 Axes>"
            ],
            "image/png": "[encoded data removed]"
          },
          "metadata": {
            "needs_background": "light"
          }
        }
      ]
    },
    {
      "cell_type": "code",
      "source": [
        "plt.scatter(df2[\"real\"], df2[\"predicted\"], s=1)"
      ],
      "metadata": {
        "id": "xFX6jCr8uiIl",
        "outputId": "42dccc71-6e38-4ef2-900f-9ddb4b25a103",
        "colab": {
          "base_uri": "https://localhost:8080/",
          "height": 282
        }
      },
      "execution_count": 41,
      "outputs": [
        {
          "output_type": "execute_result",
          "data": {
            "text/plain": [
              "<matplotlib.collections.PathCollection at 0x7f6205c66f50>"
            ]
          },
          "metadata": {},
          "execution_count": 41
        },
        {
          "output_type": "display_data",
          "data": {
            "text/plain": [
              "<Figure size 432x288 with 1 Axes>"
            ],
            "image/png": "[encoded data removed]"
          },
          "metadata": {
            "needs_background": "light"
          }
        }
      ]
    },
    {
      "cell_type": "code",
      "source": [
        "#attempt to graph a curve but didn't work (\"ValueError: Expect x to be a 1-D sorted array_like.\")\n",
        "from scipy.interpolate import make_interp_spline\n",
        "\n",
        "x = np.array(df2[\"real\"])\n",
        "y = np.array(df2[\"predicted\"])\n",
        "X_Y_Spline = make_interp_spline(x, y)\n",
        "X_ = np.linspace(x.min(), x.max(), 500)\n",
        "Y_ = X_Y_Spline(X_)\n",
        "plt.scatter(X_, Y_, s=1)"
      ],
      "metadata": {
        "id": "5tQJRtpOvQEL",
        "outputId": "e56d243f-b769-4267-fbd9-a64f7e170685",
        "colab": {
          "base_uri": "https://localhost:8080/",
          "height": 374
        }
      },
      "execution_count": 56,
      "outputs": [
        {
          "output_type": "error",
          "ename": "ValueError",
          "evalue": "ignored",
          "traceback": [
            "\u001b[0;31m---------------------------------------------------------------------------\u001b[0m",
            "\u001b[0;31mValueError\u001b[0m                                Traceback (most recent call last)",
            "\u001b[0;32m<ipython-input-56-f093a2de7c59>\u001b[0m in \u001b[0;36m<module>\u001b[0;34m()\u001b[0m\n\u001b[1;32m      4\u001b[0m \u001b[0mx\u001b[0m \u001b[0;34m=\u001b[0m \u001b[0mnp\u001b[0m\u001b[0;34m.\u001b[0m\u001b[0marray\u001b[0m\u001b[0;34m(\u001b[0m\u001b[0mdf2\u001b[0m\u001b[0;34m[\u001b[0m\u001b[0;34m\"real\"\u001b[0m\u001b[0;34m]\u001b[0m\u001b[0;34m)\u001b[0m\u001b[0;34m\u001b[0m\u001b[0;34m\u001b[0m\u001b[0m\n\u001b[1;32m      5\u001b[0m \u001b[0my\u001b[0m \u001b[0;34m=\u001b[0m \u001b[0mnp\u001b[0m\u001b[0;34m.\u001b[0m\u001b[0marray\u001b[0m\u001b[0;34m(\u001b[0m\u001b[0mdf2\u001b[0m\u001b[0;34m[\u001b[0m\u001b[0;34m\"predicted\"\u001b[0m\u001b[0;34m]\u001b[0m\u001b[0;34m)\u001b[0m\u001b[0;34m\u001b[0m\u001b[0;34m\u001b[0m\u001b[0m\n\u001b[0;32m----> 6\u001b[0;31m \u001b[0mX_Y_Spline\u001b[0m \u001b[0;34m=\u001b[0m \u001b[0mmake_interp_spline\u001b[0m\u001b[0;34m(\u001b[0m\u001b[0mx\u001b[0m\u001b[0;34m,\u001b[0m \u001b[0my\u001b[0m\u001b[0;34m)\u001b[0m\u001b[0;34m\u001b[0m\u001b[0;34m\u001b[0m\u001b[0m\n\u001b[0m\u001b[1;32m      7\u001b[0m \u001b[0mX_\u001b[0m \u001b[0;34m=\u001b[0m \u001b[0mnp\u001b[0m\u001b[0;34m.\u001b[0m\u001b[0mlinspace\u001b[0m\u001b[0;34m(\u001b[0m\u001b[0mx\u001b[0m\u001b[0;34m.\u001b[0m\u001b[0mmin\u001b[0m\u001b[0;34m(\u001b[0m\u001b[0;34m)\u001b[0m\u001b[0;34m,\u001b[0m \u001b[0mx\u001b[0m\u001b[0;34m.\u001b[0m\u001b[0mmax\u001b[0m\u001b[0;34m(\u001b[0m\u001b[0;34m)\u001b[0m\u001b[0;34m,\u001b[0m \u001b[0;36m500\u001b[0m\u001b[0;34m)\u001b[0m\u001b[0;34m\u001b[0m\u001b[0;34m\u001b[0m\u001b[0m\n\u001b[1;32m      8\u001b[0m \u001b[0mY_\u001b[0m \u001b[0;34m=\u001b[0m \u001b[0mX_Y_Spline\u001b[0m\u001b[0;34m(\u001b[0m\u001b[0mX_\u001b[0m\u001b[0;34m)\u001b[0m\u001b[0;34m\u001b[0m\u001b[0;34m\u001b[0m\u001b[0m\n",
            "\u001b[0;32m/usr/local/lib/python3.7/dist-packages/scipy/interpolate/_bsplines.py\u001b[0m in \u001b[0;36mmake_interp_spline\u001b[0;34m(x, y, k, t, bc_type, axis, check_finite)\u001b[0m\n\u001b[1;32m    797\u001b[0m \u001b[0;34m\u001b[0m\u001b[0m\n\u001b[1;32m    798\u001b[0m     \u001b[0;32mif\u001b[0m \u001b[0mx\u001b[0m\u001b[0;34m.\u001b[0m\u001b[0mndim\u001b[0m \u001b[0;34m!=\u001b[0m \u001b[0;36m1\u001b[0m \u001b[0;32mor\u001b[0m \u001b[0mnp\u001b[0m\u001b[0;34m.\u001b[0m\u001b[0many\u001b[0m\u001b[0;34m(\u001b[0m\u001b[0mx\u001b[0m\u001b[0;34m[\u001b[0m\u001b[0;36m1\u001b[0m\u001b[0;34m:\u001b[0m\u001b[0;34m]\u001b[0m \u001b[0;34m<=\u001b[0m \u001b[0mx\u001b[0m\u001b[0;34m[\u001b[0m\u001b[0;34m:\u001b[0m\u001b[0;34m-\u001b[0m\u001b[0;36m1\u001b[0m\u001b[0;34m]\u001b[0m\u001b[0;34m)\u001b[0m\u001b[0;34m:\u001b[0m\u001b[0;34m\u001b[0m\u001b[0;34m\u001b[0m\u001b[0m\n\u001b[0;32m--> 799\u001b[0;31m         \u001b[0;32mraise\u001b[0m \u001b[0mValueError\u001b[0m\u001b[0;34m(\u001b[0m\u001b[0;34m\"Expect x to be a 1-D sorted array_like.\"\u001b[0m\u001b[0;34m)\u001b[0m\u001b[0;34m\u001b[0m\u001b[0;34m\u001b[0m\u001b[0m\n\u001b[0m\u001b[1;32m    800\u001b[0m     \u001b[0;32mif\u001b[0m \u001b[0mk\u001b[0m \u001b[0;34m<\u001b[0m \u001b[0;36m0\u001b[0m\u001b[0;34m:\u001b[0m\u001b[0;34m\u001b[0m\u001b[0;34m\u001b[0m\u001b[0m\n\u001b[1;32m    801\u001b[0m         \u001b[0;32mraise\u001b[0m \u001b[0mValueError\u001b[0m\u001b[0;34m(\u001b[0m\u001b[0;34m\"Expect non-negative k.\"\u001b[0m\u001b[0;34m)\u001b[0m\u001b[0;34m\u001b[0m\u001b[0;34m\u001b[0m\u001b[0m\n",
            "\u001b[0;31mValueError\u001b[0m: Expect x to be a 1-D sorted array_like."
          ]
        }
      ]
    },
    {
      "cell_type": "code",
      "source": [
        ""
      ],
      "metadata": {
        "id": "Pm4_JjyZwfGf"
      },
      "execution_count": null,
      "outputs": []
    }
  ],
  "metadata": {
    "colab": {
      "collapsed_sections": [
        "iAGoWTPjOqV_"
      ],
      "name": "CleanedConductanceAnalysisModels.ipynb",
      "provenance": []
    },
    "kernelspec": {
      "display_name": "Python 3",
      "name": "python3"
    },
    "language_info": {
      "name": "python"
    }
  },
  "nbformat": 4,
  "nbformat_minor": 0
}